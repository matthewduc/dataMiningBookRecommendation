{
 "cells": [
  {
   "cell_type": "code",
   "execution_count": 3,
   "id": "85459fdd",
   "metadata": {
    "id": "85459fdd"
   },
   "outputs": [],
   "source": [
    "import pandas as pd\n",
    "import numpy as np\n",
    "import matplotlib.pyplot as plt\n",
    "#importing necessary libraries"
   ]
  },
  {
   "cell_type": "code",
   "execution_count": 5,
   "id": "a739e87d",
   "metadata": {
    "id": "a739e87d",
    "outputId": "b0ac919d-e8d6-4496-c846-1f6f6f993173"
   },
   "outputs": [
    {
     "name": "stderr",
     "output_type": "stream",
     "text": [
      "/Users/nguyen/opt/anaconda3/lib/python3.8/site-packages/IPython/core/interactiveshell.py:3165: DtypeWarning: Columns (3) have mixed types.Specify dtype option on import or set low_memory=False.\n",
      "  has_raised = await self.run_ast_nodes(code_ast.body, cell_name,\n"
     ]
    }
   ],
   "source": [
    "books = pd.read_csv('Books.csv')\n",
    "books.columns = ['ISBN','bookTitle','bookAuthor','yearOfPublication','publisher','imageUrlS','imageUrlM','imageUrlL']\n",
    "users = pd.read_csv('Users.csv')\n",
    "users.columns = ['userID','Location','Age']\n",
    "ratings = pd.read_csv('Ratings.csv')\n",
    "\n",
    "ratings.columns = ['userID','ISBN','bookRating']\n",
    "#reading the dataset"
   ]
  },
  {
   "cell_type": "code",
   "execution_count": 6,
   "id": "1f81c3ae",
   "metadata": {
    "id": "1f81c3ae",
    "outputId": "037cd688-23b9-4684-d586-f4d794b2db16"
   },
   "outputs": [
    {
     "name": "stdout",
     "output_type": "stream",
     "text": [
      "(271360, 8)\n",
      "['ISBN', 'bookTitle', 'bookAuthor', 'yearOfPublication', 'publisher', 'imageUrlS', 'imageUrlM', 'imageUrlL']\n"
     ]
    }
   ],
   "source": [
    "print(books.shape)\n",
    "print(list(books.columns))\n",
    "#making sure that our dataset is loaded"
   ]
  },
  {
   "cell_type": "code",
   "execution_count": 7,
   "id": "80d4bba9",
   "metadata": {
    "id": "80d4bba9",
    "outputId": "906c7d0b-ea10-4237-913a-d7efa43fdc50",
    "scrolled": true
   },
   "outputs": [
    {
     "data": {
      "text/html": [
       "<div>\n",
       "<style scoped>\n",
       "    .dataframe tbody tr th:only-of-type {\n",
       "        vertical-align: middle;\n",
       "    }\n",
       "\n",
       "    .dataframe tbody tr th {\n",
       "        vertical-align: top;\n",
       "    }\n",
       "\n",
       "    .dataframe thead th {\n",
       "        text-align: right;\n",
       "    }\n",
       "</style>\n",
       "<table border=\"1\" class=\"dataframe\">\n",
       "  <thead>\n",
       "    <tr style=\"text-align: right;\">\n",
       "      <th></th>\n",
       "      <th>ISBN</th>\n",
       "      <th>bookTitle</th>\n",
       "      <th>bookAuthor</th>\n",
       "      <th>yearOfPublication</th>\n",
       "      <th>publisher</th>\n",
       "      <th>imageUrlS</th>\n",
       "      <th>imageUrlM</th>\n",
       "      <th>imageUrlL</th>\n",
       "    </tr>\n",
       "  </thead>\n",
       "  <tbody>\n",
       "    <tr>\n",
       "      <th>0</th>\n",
       "      <td>0195153448</td>\n",
       "      <td>Classical Mythology</td>\n",
       "      <td>Mark P. O. Morford</td>\n",
       "      <td>2002</td>\n",
       "      <td>Oxford University Press</td>\n",
       "      <td>http://images.amazon.com/images/P/0195153448.0...</td>\n",
       "      <td>http://images.amazon.com/images/P/0195153448.0...</td>\n",
       "      <td>http://images.amazon.com/images/P/0195153448.0...</td>\n",
       "    </tr>\n",
       "    <tr>\n",
       "      <th>1</th>\n",
       "      <td>0002005018</td>\n",
       "      <td>Clara Callan</td>\n",
       "      <td>Richard Bruce Wright</td>\n",
       "      <td>2001</td>\n",
       "      <td>HarperFlamingo Canada</td>\n",
       "      <td>http://images.amazon.com/images/P/0002005018.0...</td>\n",
       "      <td>http://images.amazon.com/images/P/0002005018.0...</td>\n",
       "      <td>http://images.amazon.com/images/P/0002005018.0...</td>\n",
       "    </tr>\n",
       "    <tr>\n",
       "      <th>2</th>\n",
       "      <td>0060973129</td>\n",
       "      <td>Decision in Normandy</td>\n",
       "      <td>Carlo D'Este</td>\n",
       "      <td>1991</td>\n",
       "      <td>HarperPerennial</td>\n",
       "      <td>http://images.amazon.com/images/P/0060973129.0...</td>\n",
       "      <td>http://images.amazon.com/images/P/0060973129.0...</td>\n",
       "      <td>http://images.amazon.com/images/P/0060973129.0...</td>\n",
       "    </tr>\n",
       "    <tr>\n",
       "      <th>3</th>\n",
       "      <td>0374157065</td>\n",
       "      <td>Flu: The Story of the Great Influenza Pandemic...</td>\n",
       "      <td>Gina Bari Kolata</td>\n",
       "      <td>1999</td>\n",
       "      <td>Farrar Straus Giroux</td>\n",
       "      <td>http://images.amazon.com/images/P/0374157065.0...</td>\n",
       "      <td>http://images.amazon.com/images/P/0374157065.0...</td>\n",
       "      <td>http://images.amazon.com/images/P/0374157065.0...</td>\n",
       "    </tr>\n",
       "    <tr>\n",
       "      <th>4</th>\n",
       "      <td>0393045218</td>\n",
       "      <td>The Mummies of Urumchi</td>\n",
       "      <td>E. J. W. Barber</td>\n",
       "      <td>1999</td>\n",
       "      <td>W. W. Norton &amp;amp; Company</td>\n",
       "      <td>http://images.amazon.com/images/P/0393045218.0...</td>\n",
       "      <td>http://images.amazon.com/images/P/0393045218.0...</td>\n",
       "      <td>http://images.amazon.com/images/P/0393045218.0...</td>\n",
       "    </tr>\n",
       "  </tbody>\n",
       "</table>\n",
       "</div>"
      ],
      "text/plain": [
       "         ISBN                                          bookTitle  \\\n",
       "0  0195153448                                Classical Mythology   \n",
       "1  0002005018                                       Clara Callan   \n",
       "2  0060973129                               Decision in Normandy   \n",
       "3  0374157065  Flu: The Story of the Great Influenza Pandemic...   \n",
       "4  0393045218                             The Mummies of Urumchi   \n",
       "\n",
       "             bookAuthor yearOfPublication                   publisher  \\\n",
       "0    Mark P. O. Morford              2002     Oxford University Press   \n",
       "1  Richard Bruce Wright              2001       HarperFlamingo Canada   \n",
       "2          Carlo D'Este              1991             HarperPerennial   \n",
       "3      Gina Bari Kolata              1999        Farrar Straus Giroux   \n",
       "4       E. J. W. Barber              1999  W. W. Norton &amp; Company   \n",
       "\n",
       "                                           imageUrlS  \\\n",
       "0  http://images.amazon.com/images/P/0195153448.0...   \n",
       "1  http://images.amazon.com/images/P/0002005018.0...   \n",
       "2  http://images.amazon.com/images/P/0060973129.0...   \n",
       "3  http://images.amazon.com/images/P/0374157065.0...   \n",
       "4  http://images.amazon.com/images/P/0393045218.0...   \n",
       "\n",
       "                                           imageUrlM  \\\n",
       "0  http://images.amazon.com/images/P/0195153448.0...   \n",
       "1  http://images.amazon.com/images/P/0002005018.0...   \n",
       "2  http://images.amazon.com/images/P/0060973129.0...   \n",
       "3  http://images.amazon.com/images/P/0374157065.0...   \n",
       "4  http://images.amazon.com/images/P/0393045218.0...   \n",
       "\n",
       "                                           imageUrlL  \n",
       "0  http://images.amazon.com/images/P/0195153448.0...  \n",
       "1  http://images.amazon.com/images/P/0002005018.0...  \n",
       "2  http://images.amazon.com/images/P/0060973129.0...  \n",
       "3  http://images.amazon.com/images/P/0374157065.0...  \n",
       "4  http://images.amazon.com/images/P/0393045218.0...  "
      ]
     },
     "execution_count": 7,
     "metadata": {},
     "output_type": "execute_result"
    }
   ],
   "source": [
    "books.head()\n",
    "#checking the first 5 rows of the books dataset"
   ]
  },
  {
   "cell_type": "code",
   "execution_count": 8,
   "id": "abf3aee5",
   "metadata": {
    "id": "abf3aee5",
    "outputId": "c4145a9d-2012-4dd5-f275-5d7942cd9096",
    "scrolled": true
   },
   "outputs": [
    {
     "data": {
      "text/plain": [
       "ISBN                 object\n",
       "bookTitle            object\n",
       "bookAuthor           object\n",
       "yearOfPublication    object\n",
       "publisher            object\n",
       "imageUrlS            object\n",
       "imageUrlM            object\n",
       "imageUrlL            object\n",
       "dtype: object"
      ]
     },
     "execution_count": 8,
     "metadata": {},
     "output_type": "execute_result"
    }
   ],
   "source": [
    "books.dtypes\n",
    "#checking the data types"
   ]
  },
  {
   "cell_type": "markdown",
   "id": "7f1c7783",
   "metadata": {
    "id": "7f1c7783"
   },
   "source": [
    "# Data Preprocessing"
   ]
  },
  {
   "cell_type": "code",
   "execution_count": 9,
   "id": "47890873",
   "metadata": {
    "id": "47890873",
    "outputId": "0f9262dc-00ca-4462-ae3f-d424afb99d5b"
   },
   "outputs": [
    {
     "data": {
      "text/plain": [
       "array([2002, 2001, 1991, 1999, 2000, 1993, 1996, 1988, 2004, 1998, 1994,\n",
       "       2003, 1997, 1983, 1979, 1995, 1982, 1985, 1992, 1986, 1978, 1980,\n",
       "       1952, 1987, 1990, 1981, 1989, 1984, 0, 1968, 1961, 1958, 1974,\n",
       "       1976, 1971, 1977, 1975, 1965, 1941, 1970, 1962, 1973, 1972, 1960,\n",
       "       1966, 1920, 1956, 1959, 1953, 1951, 1942, 1963, 1964, 1969, 1954,\n",
       "       1950, 1967, 2005, 1957, 1940, 1937, 1955, 1946, 1936, 1930, 2011,\n",
       "       1925, 1948, 1943, 1947, 1945, 1923, 2020, 1939, 1926, 1938, 2030,\n",
       "       1911, 1904, 1949, 1932, 1928, 1929, 1927, 1931, 1914, 2050, 1934,\n",
       "       1910, 1933, 1902, 1924, 1921, 1900, 2038, 2026, 1944, 1917, 1901,\n",
       "       2010, 1908, 1906, 1935, 1806, 2021, '2000', '1995', '1999', '2004',\n",
       "       '2003', '1990', '1994', '1986', '1989', '2002', '1981', '1993',\n",
       "       '1983', '1982', '1976', '1991', '1977', '1998', '1992', '1996',\n",
       "       '0', '1997', '2001', '1974', '1968', '1987', '1984', '1988',\n",
       "       '1963', '1956', '1970', '1985', '1978', '1973', '1980', '1979',\n",
       "       '1975', '1969', '1961', '1965', '1939', '1958', '1950', '1953',\n",
       "       '1966', '1971', '1959', '1972', '1955', '1957', '1945', '1960',\n",
       "       '1967', '1932', '1924', '1964', '2012', '1911', '1927', '1948',\n",
       "       '1962', '2006', '1952', '1940', '1951', '1931', '1954', '2005',\n",
       "       '1930', '1941', '1944', 'DK Publishing Inc', '1943', '1938',\n",
       "       '1900', '1942', '1923', '1920', '1933', 'Gallimard', '1909',\n",
       "       '1946', '2008', '1378', '2030', '1936', '1947', '2011', '2020',\n",
       "       '1919', '1949', '1922', '1897', '2024', '1376', '1926', '2037'],\n",
       "      dtype=object)"
      ]
     },
     "execution_count": 9,
     "metadata": {},
     "output_type": "execute_result"
    }
   ],
   "source": [
    "books.yearOfPublication.unique()"
   ]
  },
  {
   "cell_type": "code",
   "execution_count": 10,
   "id": "feee10c0",
   "metadata": {
    "id": "feee10c0",
    "outputId": "f18e3dca-c786-41a7-840c-4ecb4a7ca834"
   },
   "outputs": [
    {
     "data": {
      "text/html": [
       "<div>\n",
       "<style scoped>\n",
       "    .dataframe tbody tr th:only-of-type {\n",
       "        vertical-align: middle;\n",
       "    }\n",
       "\n",
       "    .dataframe tbody tr th {\n",
       "        vertical-align: top;\n",
       "    }\n",
       "\n",
       "    .dataframe thead th {\n",
       "        text-align: right;\n",
       "    }\n",
       "</style>\n",
       "<table border=\"1\" class=\"dataframe\">\n",
       "  <thead>\n",
       "    <tr style=\"text-align: right;\">\n",
       "      <th></th>\n",
       "      <th>ISBN</th>\n",
       "      <th>bookTitle</th>\n",
       "      <th>bookAuthor</th>\n",
       "      <th>yearOfPublication</th>\n",
       "      <th>publisher</th>\n",
       "      <th>imageUrlS</th>\n",
       "      <th>imageUrlM</th>\n",
       "      <th>imageUrlL</th>\n",
       "    </tr>\n",
       "  </thead>\n",
       "  <tbody>\n",
       "    <tr>\n",
       "      <th>209538</th>\n",
       "      <td>078946697X</td>\n",
       "      <td>DK Readers: Creating the X-Men, How It All Beg...</td>\n",
       "      <td>2000</td>\n",
       "      <td>DK Publishing Inc</td>\n",
       "      <td>http://images.amazon.com/images/P/078946697X.0...</td>\n",
       "      <td>http://images.amazon.com/images/P/078946697X.0...</td>\n",
       "      <td>http://images.amazon.com/images/P/078946697X.0...</td>\n",
       "      <td>NaN</td>\n",
       "    </tr>\n",
       "    <tr>\n",
       "      <th>221678</th>\n",
       "      <td>0789466953</td>\n",
       "      <td>DK Readers: Creating the X-Men, How Comic Book...</td>\n",
       "      <td>2000</td>\n",
       "      <td>DK Publishing Inc</td>\n",
       "      <td>http://images.amazon.com/images/P/0789466953.0...</td>\n",
       "      <td>http://images.amazon.com/images/P/0789466953.0...</td>\n",
       "      <td>http://images.amazon.com/images/P/0789466953.0...</td>\n",
       "      <td>NaN</td>\n",
       "    </tr>\n",
       "  </tbody>\n",
       "</table>\n",
       "</div>"
      ],
      "text/plain": [
       "              ISBN                                          bookTitle  \\\n",
       "209538  078946697X  DK Readers: Creating the X-Men, How It All Beg...   \n",
       "221678  0789466953  DK Readers: Creating the X-Men, How Comic Book...   \n",
       "\n",
       "       bookAuthor  yearOfPublication  \\\n",
       "209538       2000  DK Publishing Inc   \n",
       "221678       2000  DK Publishing Inc   \n",
       "\n",
       "                                                publisher  \\\n",
       "209538  http://images.amazon.com/images/P/078946697X.0...   \n",
       "221678  http://images.amazon.com/images/P/0789466953.0...   \n",
       "\n",
       "                                                imageUrlS  \\\n",
       "209538  http://images.amazon.com/images/P/078946697X.0...   \n",
       "221678  http://images.amazon.com/images/P/0789466953.0...   \n",
       "\n",
       "                                                imageUrlM imageUrlL  \n",
       "209538  http://images.amazon.com/images/P/078946697X.0...       NaN  \n",
       "221678  http://images.amazon.com/images/P/0789466953.0...       NaN  "
      ]
     },
     "execution_count": 10,
     "metadata": {},
     "output_type": "execute_result"
    }
   ],
   "source": [
    "books.loc[books.yearOfPublication == 'DK Publishing Inc', :]\n",
    "#here we can observe that few years of publication has the publisher details so we are removing it in next steps"
   ]
  },
  {
   "cell_type": "code",
   "execution_count": 11,
   "id": "c27e6c4d",
   "metadata": {
    "id": "c27e6c4d"
   },
   "outputs": [],
   "source": [
    "books.loc[books.ISBN == '0789466953','yearOfPublication'] = 2000\n",
    "books.loc[books.ISBN == '0789466953','bookAuthor'] = \"James Buckley\"\n",
    "books.loc[books.ISBN == '0789466953','publisher'] = \"DK Publishing Inc\"\n",
    "books.loc[books.ISBN == '0789466953','bookTitle'] = 'DK Readers: Creating the X-Men, How Comic Books Come to Life (Level 4: Proficient Readers)'"
   ]
  },
  {
   "cell_type": "code",
   "execution_count": 12,
   "id": "ed43a5f3",
   "metadata": {
    "id": "ed43a5f3"
   },
   "outputs": [],
   "source": [
    "books.loc[books.ISBN == '078946697X','yearOfPublication'] = 2000\n",
    "books.loc[books.ISBN == '078946697X','bookAuthor'] = \"Michael Teitelbaum\"\n",
    "books.loc[books.ISBN == '078946697X','publisher'] = \"DK Publishing Inc\"\n",
    "books.loc[books.ISBN == '078946697X','bookTitle'] = 'DK Readers: Creating the X-Men, How It All Began (Level 4: Proficient Readers)'"
   ]
  },
  {
   "cell_type": "code",
   "execution_count": 13,
   "id": "f063c172",
   "metadata": {
    "id": "f063c172",
    "outputId": "64aa2bb3-83e9-4ab2-c158-acf5cd34dce5"
   },
   "outputs": [
    {
     "data": {
      "text/html": [
       "<div>\n",
       "<style scoped>\n",
       "    .dataframe tbody tr th:only-of-type {\n",
       "        vertical-align: middle;\n",
       "    }\n",
       "\n",
       "    .dataframe tbody tr th {\n",
       "        vertical-align: top;\n",
       "    }\n",
       "\n",
       "    .dataframe thead th {\n",
       "        text-align: right;\n",
       "    }\n",
       "</style>\n",
       "<table border=\"1\" class=\"dataframe\">\n",
       "  <thead>\n",
       "    <tr style=\"text-align: right;\">\n",
       "      <th></th>\n",
       "      <th>ISBN</th>\n",
       "      <th>bookTitle</th>\n",
       "      <th>bookAuthor</th>\n",
       "      <th>yearOfPublication</th>\n",
       "      <th>publisher</th>\n",
       "      <th>imageUrlS</th>\n",
       "      <th>imageUrlM</th>\n",
       "      <th>imageUrlL</th>\n",
       "    </tr>\n",
       "  </thead>\n",
       "  <tbody>\n",
       "    <tr>\n",
       "      <th>220731</th>\n",
       "      <td>2070426769</td>\n",
       "      <td>Peuple du ciel, suivi de 'Les Bergers\\\";Jean-M...</td>\n",
       "      <td>2003</td>\n",
       "      <td>Gallimard</td>\n",
       "      <td>http://images.amazon.com/images/P/2070426769.0...</td>\n",
       "      <td>http://images.amazon.com/images/P/2070426769.0...</td>\n",
       "      <td>http://images.amazon.com/images/P/2070426769.0...</td>\n",
       "      <td>NaN</td>\n",
       "    </tr>\n",
       "  </tbody>\n",
       "</table>\n",
       "</div>"
      ],
      "text/plain": [
       "              ISBN                                          bookTitle  \\\n",
       "220731  2070426769  Peuple du ciel, suivi de 'Les Bergers\\\";Jean-M...   \n",
       "\n",
       "       bookAuthor yearOfPublication  \\\n",
       "220731       2003         Gallimard   \n",
       "\n",
       "                                                publisher  \\\n",
       "220731  http://images.amazon.com/images/P/2070426769.0...   \n",
       "\n",
       "                                                imageUrlS  \\\n",
       "220731  http://images.amazon.com/images/P/2070426769.0...   \n",
       "\n",
       "                                                imageUrlM imageUrlL  \n",
       "220731  http://images.amazon.com/images/P/2070426769.0...       NaN  "
      ]
     },
     "execution_count": 13,
     "metadata": {},
     "output_type": "execute_result"
    }
   ],
   "source": [
    "books.loc[books.yearOfPublication == 'Gallimard', :]"
   ]
  },
  {
   "cell_type": "code",
   "execution_count": 14,
   "id": "f5e861a8",
   "metadata": {
    "id": "f5e861a8"
   },
   "outputs": [],
   "source": [
    "books.loc[books.ISBN == '078946697X','yearOfPublication'] = 2003\n",
    "books.loc[books.ISBN == '078946697X','bookAuthor'] = \"Jean-Marie Gustave Le ClÃ?ÃÂ©zio\"\n",
    "books.loc[books.ISBN == '078946697X','publisher'] = \"Gallimard\"\n",
    "books.loc[books.ISBN == '078946697X','bookTitle'] = \"Peuple du ciel, suivi de 'Les Bergers\""
   ]
  },
  {
   "cell_type": "code",
   "execution_count": 15,
   "id": "d4a5a161",
   "metadata": {
    "id": "d4a5a161"
   },
   "outputs": [],
   "source": [
    "books.yearOfPublication = pd.to_numeric(books.yearOfPublication, errors='coerce')"
   ]
  },
  {
   "cell_type": "code",
   "execution_count": 16,
   "id": "db2ef2a3",
   "metadata": {
    "id": "db2ef2a3",
    "outputId": "9d7eb258-7f37-4034-f88c-89c206a0eec6"
   },
   "outputs": [
    {
     "name": "stdout",
     "output_type": "stream",
     "text": [
      "[0.0, 1376.0, 1378.0, 1806.0, 1897.0, 1900.0, 1901.0, 1902.0, 1904.0, 1906.0, 1908.0, 1909.0, 1910.0, 1911.0, 1914.0, 1917.0, 1919.0, 1920.0, 1921.0, 1922.0, 1923.0, 1924.0, 1925.0, 1926.0, 1927.0, 1928.0, 1929.0, 1930.0, 1931.0, 1932.0, 1933.0, 1934.0, 1935.0, 1936.0, 1937.0, 1938.0, 1939.0, 1940.0, 1941.0, 1942.0, 1943.0, 1944.0, 1945.0, 1946.0, 1947.0, 1948.0, 1949.0, 1950.0, 1951.0, 1952.0, 1953.0, 1954.0, 1955.0, 1956.0, 1957.0, 1958.0, 1959.0, 1960.0, 1961.0, 1962.0, 1963.0, 1964.0, 1965.0, 1966.0, 1967.0, 1968.0, 1969.0, 1970.0, 1971.0, 1972.0, 1973.0, 1974.0, 1975.0, 1976.0, 1977.0, 1978.0, 1979.0, 1980.0, 1981.0, 1982.0, 1983.0, 1984.0, 1985.0, 1986.0, 1987.0, 1988.0, 1989.0, 1990.0, 1991.0, 1992.0, 1993.0, 1994.0, 1995.0, 1996.0, 1997.0, 1998.0, 1999.0, 2000.0, 2001.0, 2002.0, 2003.0, 2004.0, 2005.0, 2006.0, 2008.0, 2010.0, 2011.0, 2012.0, 2020.0, 2021.0, 2024.0, 2026.0, 2030.0, 2037.0, 2038.0, 2050.0, nan]\n"
     ]
    }
   ],
   "source": [
    "print(sorted(books['yearOfPublication'].unique()))\n",
    "#sorting the year of publication to see if there are any outliers"
   ]
  },
  {
   "cell_type": "code",
   "execution_count": 58,
   "id": "ca717236",
   "metadata": {
    "id": "ca717236"
   },
   "outputs": [],
   "source": [
    "books.loc[(books.yearOfPublication > 2006) | (books.yearOfPublication == 0), 'yearOfPublication'] = np.NAN\n",
    "books.yearOfPublication.fillna(round(books.yearOfPublication.mean()), inplace = True)\n",
    "#removing the outliers"
   ]
  },
  {
   "cell_type": "code",
   "execution_count": 18,
   "id": "932465ee",
   "metadata": {
    "id": "932465ee",
    "outputId": "780f8519-3cdf-4571-ea6e-2afbc5adba99"
   },
   "outputs": [
    {
     "data": {
      "text/html": [
       "<div>\n",
       "<style scoped>\n",
       "    .dataframe tbody tr th:only-of-type {\n",
       "        vertical-align: middle;\n",
       "    }\n",
       "\n",
       "    .dataframe tbody tr th {\n",
       "        vertical-align: top;\n",
       "    }\n",
       "\n",
       "    .dataframe thead th {\n",
       "        text-align: right;\n",
       "    }\n",
       "</style>\n",
       "<table border=\"1\" class=\"dataframe\">\n",
       "  <thead>\n",
       "    <tr style=\"text-align: right;\">\n",
       "      <th></th>\n",
       "      <th>ISBN</th>\n",
       "      <th>bookTitle</th>\n",
       "      <th>bookAuthor</th>\n",
       "      <th>yearOfPublication</th>\n",
       "      <th>publisher</th>\n",
       "      <th>imageUrlS</th>\n",
       "      <th>imageUrlM</th>\n",
       "      <th>imageUrlL</th>\n",
       "    </tr>\n",
       "  </thead>\n",
       "  <tbody>\n",
       "    <tr>\n",
       "      <th>128890</th>\n",
       "      <td>193169656X</td>\n",
       "      <td>Tyrant Moon</td>\n",
       "      <td>Elaine Corvidae</td>\n",
       "      <td>2002.0</td>\n",
       "      <td>NaN</td>\n",
       "      <td>http://images.amazon.com/images/P/193169656X.0...</td>\n",
       "      <td>http://images.amazon.com/images/P/193169656X.0...</td>\n",
       "      <td>http://images.amazon.com/images/P/193169656X.0...</td>\n",
       "    </tr>\n",
       "    <tr>\n",
       "      <th>129037</th>\n",
       "      <td>1931696993</td>\n",
       "      <td>Finders Keepers</td>\n",
       "      <td>Linnea Sinclair</td>\n",
       "      <td>2001.0</td>\n",
       "      <td>NaN</td>\n",
       "      <td>http://images.amazon.com/images/P/1931696993.0...</td>\n",
       "      <td>http://images.amazon.com/images/P/1931696993.0...</td>\n",
       "      <td>http://images.amazon.com/images/P/1931696993.0...</td>\n",
       "    </tr>\n",
       "  </tbody>\n",
       "</table>\n",
       "</div>"
      ],
      "text/plain": [
       "              ISBN        bookTitle       bookAuthor  yearOfPublication  \\\n",
       "128890  193169656X      Tyrant Moon  Elaine Corvidae             2002.0   \n",
       "129037  1931696993  Finders Keepers  Linnea Sinclair             2001.0   \n",
       "\n",
       "       publisher                                          imageUrlS  \\\n",
       "128890       NaN  http://images.amazon.com/images/P/193169656X.0...   \n",
       "129037       NaN  http://images.amazon.com/images/P/1931696993.0...   \n",
       "\n",
       "                                                imageUrlM  \\\n",
       "128890  http://images.amazon.com/images/P/193169656X.0...   \n",
       "129037  http://images.amazon.com/images/P/1931696993.0...   \n",
       "\n",
       "                                                imageUrlL  \n",
       "128890  http://images.amazon.com/images/P/193169656X.0...  \n",
       "129037  http://images.amazon.com/images/P/1931696993.0...  "
      ]
     },
     "execution_count": 18,
     "metadata": {},
     "output_type": "execute_result"
    }
   ],
   "source": [
    "books.loc[books.publisher.isnull(),:]"
   ]
  },
  {
   "cell_type": "code",
   "execution_count": 19,
   "id": "502120fd",
   "metadata": {
    "id": "502120fd"
   },
   "outputs": [],
   "source": [
    "books.loc[books.ISBN == '193169656X','publisher'] = \"other\"\n",
    "books.loc[books.ISBN == '1931696993','publisher'] = \"other\"\n",
    "#changing the Nan values to other in publisher column"
   ]
  },
  {
   "cell_type": "markdown",
   "id": "23977d36",
   "metadata": {
    "id": "23977d36"
   },
   "source": [
    "Users Data - Pre processing"
   ]
  },
  {
   "cell_type": "code",
   "execution_count": 20,
   "id": "b0cb4708",
   "metadata": {
    "id": "b0cb4708",
    "outputId": "f2bafe7e-db02-4ae0-8527-90269095532b"
   },
   "outputs": [
    {
     "name": "stdout",
     "output_type": "stream",
     "text": [
      "(278858, 3)\n",
      "['userID', 'Location', 'Age']\n"
     ]
    }
   ],
   "source": [
    "print(users.shape)\n",
    "print(list(users.columns))"
   ]
  },
  {
   "cell_type": "code",
   "execution_count": 21,
   "id": "cbf21e21",
   "metadata": {
    "id": "cbf21e21",
    "outputId": "3a221ae1-60a9-4883-b23b-3515f325321b"
   },
   "outputs": [
    {
     "data": {
      "text/html": [
       "<div>\n",
       "<style scoped>\n",
       "    .dataframe tbody tr th:only-of-type {\n",
       "        vertical-align: middle;\n",
       "    }\n",
       "\n",
       "    .dataframe tbody tr th {\n",
       "        vertical-align: top;\n",
       "    }\n",
       "\n",
       "    .dataframe thead th {\n",
       "        text-align: right;\n",
       "    }\n",
       "</style>\n",
       "<table border=\"1\" class=\"dataframe\">\n",
       "  <thead>\n",
       "    <tr style=\"text-align: right;\">\n",
       "      <th></th>\n",
       "      <th>userID</th>\n",
       "      <th>Location</th>\n",
       "      <th>Age</th>\n",
       "    </tr>\n",
       "  </thead>\n",
       "  <tbody>\n",
       "    <tr>\n",
       "      <th>0</th>\n",
       "      <td>1</td>\n",
       "      <td>nyc, new york, usa</td>\n",
       "      <td>NaN</td>\n",
       "    </tr>\n",
       "    <tr>\n",
       "      <th>1</th>\n",
       "      <td>2</td>\n",
       "      <td>stockton, california, usa</td>\n",
       "      <td>18.0</td>\n",
       "    </tr>\n",
       "    <tr>\n",
       "      <th>2</th>\n",
       "      <td>3</td>\n",
       "      <td>moscow, yukon territory, russia</td>\n",
       "      <td>NaN</td>\n",
       "    </tr>\n",
       "    <tr>\n",
       "      <th>3</th>\n",
       "      <td>4</td>\n",
       "      <td>porto, v.n.gaia, portugal</td>\n",
       "      <td>17.0</td>\n",
       "    </tr>\n",
       "    <tr>\n",
       "      <th>4</th>\n",
       "      <td>5</td>\n",
       "      <td>farnborough, hants, united kingdom</td>\n",
       "      <td>NaN</td>\n",
       "    </tr>\n",
       "  </tbody>\n",
       "</table>\n",
       "</div>"
      ],
      "text/plain": [
       "   userID                            Location   Age\n",
       "0       1                  nyc, new york, usa   NaN\n",
       "1       2           stockton, california, usa  18.0\n",
       "2       3     moscow, yukon territory, russia   NaN\n",
       "3       4           porto, v.n.gaia, portugal  17.0\n",
       "4       5  farnborough, hants, united kingdom   NaN"
      ]
     },
     "execution_count": 21,
     "metadata": {},
     "output_type": "execute_result"
    }
   ],
   "source": [
    "users.head()\n",
    "#checking the data in users dataset"
   ]
  },
  {
   "cell_type": "code",
   "execution_count": 22,
   "id": "28839985",
   "metadata": {
    "id": "28839985",
    "outputId": "1a3ebfaf-91e0-4de9-cd6b-2f29e1f1a623"
   },
   "outputs": [
    {
     "data": {
      "text/plain": [
       "userID        int64\n",
       "Location     object\n",
       "Age         float64\n",
       "dtype: object"
      ]
     },
     "execution_count": 22,
     "metadata": {},
     "output_type": "execute_result"
    }
   ],
   "source": [
    "users.dtypes"
   ]
  },
  {
   "cell_type": "code",
   "execution_count": 23,
   "id": "da49b83f",
   "metadata": {
    "id": "da49b83f",
    "outputId": "f84d3b21-9f28-4949-a552-7dd29b5acb4a"
   },
   "outputs": [
    {
     "name": "stdout",
     "output_type": "stream",
     "text": [
      "[nan, 0.0, 1.0, 2.0, 3.0, 4.0, 5.0, 6.0, 7.0, 8.0, 9.0, 10.0, 11.0, 12.0, 13.0, 14.0, 15.0, 16.0, 17.0, 18.0, 19.0, 20.0, 21.0, 22.0, 23.0, 24.0, 25.0, 26.0, 27.0, 28.0, 29.0, 30.0, 31.0, 32.0, 33.0, 34.0, 35.0, 36.0, 37.0, 38.0, 39.0, 40.0, 41.0, 42.0, 43.0, 44.0, 45.0, 46.0, 47.0, 48.0, 49.0, 50.0, 51.0, 52.0, 53.0, 54.0, 55.0, 56.0, 57.0, 58.0, 59.0, 60.0, 61.0, 62.0, 63.0, 64.0, 65.0, 66.0, 67.0, 68.0, 69.0, 70.0, 71.0, 72.0, 73.0, 74.0, 75.0, 76.0, 77.0, 78.0, 79.0, 80.0, 81.0, 82.0, 83.0, 84.0, 85.0, 86.0, 87.0, 88.0, 89.0, 90.0, 91.0, 92.0, 93.0, 94.0, 95.0, 96.0, 97.0, 98.0, 99.0, 100.0, 101.0, 102.0, 103.0, 104.0, 105.0, 106.0, 107.0, 108.0, 109.0, 110.0, 111.0, 113.0, 114.0, 115.0, 116.0, 118.0, 119.0, 123.0, 124.0, 127.0, 128.0, 132.0, 133.0, 136.0, 137.0, 138.0, 140.0, 141.0, 143.0, 146.0, 147.0, 148.0, 151.0, 152.0, 156.0, 157.0, 159.0, 162.0, 168.0, 172.0, 175.0, 183.0, 186.0, 189.0, 199.0, 200.0, 201.0, 204.0, 207.0, 208.0, 209.0, 210.0, 212.0, 219.0, 220.0, 223.0, 226.0, 228.0, 229.0, 230.0, 231.0, 237.0, 239.0, 244.0]\n"
     ]
    }
   ],
   "source": [
    "print(sorted(users.Age.unique()))\n",
    "#sorting the age values to check for outliers"
   ]
  },
  {
   "cell_type": "code",
   "execution_count": 24,
   "id": "969552a0",
   "metadata": {
    "id": "969552a0"
   },
   "outputs": [],
   "source": [
    "users.loc[(users.Age > 90) | (users.Age < 10), 'Age'] = np.nan\n",
    "users.Age = users.Age.fillna(users.Age.mean())\n",
    "users.Age = users.Age.astype(np.int32)\n",
    "#removing outliers"
   ]
  },
  {
   "cell_type": "code",
   "execution_count": 25,
   "id": "6ad3f736",
   "metadata": {
    "id": "6ad3f736",
    "outputId": "4ec4752d-4e7a-4637-9d6b-ac1d27b84907"
   },
   "outputs": [
    {
     "name": "stdout",
     "output_type": "stream",
     "text": [
      "[10, 11, 12, 13, 14, 15, 16, 17, 18, 19, 20, 21, 22, 23, 24, 25, 26, 27, 28, 29, 30, 31, 32, 33, 34, 35, 36, 37, 38, 39, 40, 41, 42, 43, 44, 45, 46, 47, 48, 49, 50, 51, 52, 53, 54, 55, 56, 57, 58, 59, 60, 61, 62, 63, 64, 65, 66, 67, 68, 69, 70, 71, 72, 73, 74, 75, 76, 77, 78, 79, 80, 81, 82, 83, 84, 85, 86, 87, 88, 89, 90]\n"
     ]
    }
   ],
   "source": [
    "print(sorted(users.Age.unique()))"
   ]
  },
  {
   "cell_type": "markdown",
   "id": "82efab10",
   "metadata": {
    "id": "82efab10"
   },
   "source": [
    "Ratings Data - Pre Processing"
   ]
  },
  {
   "cell_type": "code",
   "execution_count": 26,
   "id": "6382aba8",
   "metadata": {
    "id": "6382aba8",
    "outputId": "17cf3717-10ec-429a-8a41-874989acea97"
   },
   "outputs": [
    {
     "name": "stdout",
     "output_type": "stream",
     "text": [
      "(1149780, 3)\n",
      "['userID', 'ISBN', 'bookRating']\n"
     ]
    }
   ],
   "source": [
    "print(ratings.shape)\n",
    "print(list(ratings.columns))"
   ]
  },
  {
   "cell_type": "code",
   "execution_count": 27,
   "id": "060acff9",
   "metadata": {
    "id": "060acff9",
    "outputId": "005adf9d-1b6c-4531-cd3a-5ef9146f1420"
   },
   "outputs": [
    {
     "data": {
      "text/html": [
       "<div>\n",
       "<style scoped>\n",
       "    .dataframe tbody tr th:only-of-type {\n",
       "        vertical-align: middle;\n",
       "    }\n",
       "\n",
       "    .dataframe tbody tr th {\n",
       "        vertical-align: top;\n",
       "    }\n",
       "\n",
       "    .dataframe thead th {\n",
       "        text-align: right;\n",
       "    }\n",
       "</style>\n",
       "<table border=\"1\" class=\"dataframe\">\n",
       "  <thead>\n",
       "    <tr style=\"text-align: right;\">\n",
       "      <th></th>\n",
       "      <th>userID</th>\n",
       "      <th>ISBN</th>\n",
       "      <th>bookRating</th>\n",
       "    </tr>\n",
       "  </thead>\n",
       "  <tbody>\n",
       "    <tr>\n",
       "      <th>0</th>\n",
       "      <td>276725</td>\n",
       "      <td>034545104X</td>\n",
       "      <td>0</td>\n",
       "    </tr>\n",
       "    <tr>\n",
       "      <th>1</th>\n",
       "      <td>276726</td>\n",
       "      <td>0155061224</td>\n",
       "      <td>5</td>\n",
       "    </tr>\n",
       "    <tr>\n",
       "      <th>2</th>\n",
       "      <td>276727</td>\n",
       "      <td>0446520802</td>\n",
       "      <td>0</td>\n",
       "    </tr>\n",
       "    <tr>\n",
       "      <th>3</th>\n",
       "      <td>276729</td>\n",
       "      <td>052165615X</td>\n",
       "      <td>3</td>\n",
       "    </tr>\n",
       "    <tr>\n",
       "      <th>4</th>\n",
       "      <td>276729</td>\n",
       "      <td>0521795028</td>\n",
       "      <td>6</td>\n",
       "    </tr>\n",
       "  </tbody>\n",
       "</table>\n",
       "</div>"
      ],
      "text/plain": [
       "   userID        ISBN  bookRating\n",
       "0  276725  034545104X           0\n",
       "1  276726  0155061224           5\n",
       "2  276727  0446520802           0\n",
       "3  276729  052165615X           3\n",
       "4  276729  0521795028           6"
      ]
     },
     "execution_count": 27,
     "metadata": {},
     "output_type": "execute_result"
    }
   ],
   "source": [
    "ratings.head()"
   ]
  },
  {
   "cell_type": "markdown",
   "id": "4cb13cc6",
   "metadata": {
    "id": "4cb13cc6"
   },
   "source": [
    "Ratings Distribution"
   ]
  },
  {
   "cell_type": "code",
   "execution_count": 28,
   "id": "7968e1cc",
   "metadata": {
    "id": "7968e1cc",
    "outputId": "5cb2c636-c7c2-455b-edb3-8d7f3f30c0b2"
   },
   "outputs": [
    {
     "data": {
      "image/png": "[encoded data removed]",
      "text/plain": [
       "<Figure size 432x288 with 1 Axes>"
      ]
     },
     "metadata": {
      "needs_background": "light"
     },
     "output_type": "display_data"
    }
   ],
   "source": [
    "plt.rc(\"font\", size = 15)\n",
    "ratings.bookRating.value_counts(sort = False).plot(kind = 'bar')\n",
    "plt.title('Rating Distribution')\n",
    "plt.xlabel('Rating')\n",
    "plt.ylabel('count')\n",
    "plt.plot()\n",
    "plt.savefig(\"Rating Distribution.jpg\", bbox_inches = \"tight\", dpi = 100)\n",
    "#checking the ratings distribution"
   ]
  },
  {
   "cell_type": "code",
   "execution_count": 29,
   "id": "b474441f",
   "metadata": {
    "id": "b474441f",
    "outputId": "8483a522-41d9-4bb4-a8df-ccc2059a61cf"
   },
   "outputs": [
    {
     "name": "stdout",
     "output_type": "stream",
     "text": [
      "75670906880\n"
     ]
    }
   ],
   "source": [
    "n_users = users.shape[0]\n",
    "n_books = books.shape[0]\n",
    "print(n_users * n_books)"
   ]
  },
  {
   "cell_type": "code",
   "execution_count": 30,
   "id": "173afcbe",
   "metadata": {
    "id": "173afcbe"
   },
   "outputs": [],
   "source": [
    "new_ratings = ratings[ratings.ISBN.isin(books.ISBN)]\n",
    "new_ratings = new_ratings[new_ratings.userID.isin(users.userID)]"
   ]
  },
  {
   "cell_type": "code",
   "execution_count": 31,
   "id": "5317f424",
   "metadata": {
    "id": "5317f424",
    "outputId": "0697cd35-5392-4799-b1c4-471ab223ce58"
   },
   "outputs": [
    {
     "name": "stdout",
     "output_type": "stream",
     "text": [
      "(1149780, 3)\n",
      "(1031136, 3)\n"
     ]
    }
   ],
   "source": [
    "print(ratings.shape)\n",
    "print(new_ratings.shape)"
   ]
  },
  {
   "cell_type": "code",
   "execution_count": 32,
   "id": "968e2034",
   "metadata": {
    "id": "968e2034",
    "outputId": "673a3e75-21f2-4d8b-893c-75bebe908bfd"
   },
   "outputs": [
    {
     "data": {
      "text/html": [
       "<div>\n",
       "<style scoped>\n",
       "    .dataframe tbody tr th:only-of-type {\n",
       "        vertical-align: middle;\n",
       "    }\n",
       "\n",
       "    .dataframe tbody tr th {\n",
       "        vertical-align: top;\n",
       "    }\n",
       "\n",
       "    .dataframe thead th {\n",
       "        text-align: right;\n",
       "    }\n",
       "</style>\n",
       "<table border=\"1\" class=\"dataframe\">\n",
       "  <thead>\n",
       "    <tr style=\"text-align: right;\">\n",
       "      <th></th>\n",
       "      <th>userID</th>\n",
       "      <th>ISBN</th>\n",
       "      <th>bookRating</th>\n",
       "    </tr>\n",
       "  </thead>\n",
       "  <tbody>\n",
       "    <tr>\n",
       "      <th>0</th>\n",
       "      <td>276725</td>\n",
       "      <td>034545104X</td>\n",
       "      <td>0</td>\n",
       "    </tr>\n",
       "    <tr>\n",
       "      <th>1</th>\n",
       "      <td>276726</td>\n",
       "      <td>0155061224</td>\n",
       "      <td>5</td>\n",
       "    </tr>\n",
       "    <tr>\n",
       "      <th>2</th>\n",
       "      <td>276727</td>\n",
       "      <td>0446520802</td>\n",
       "      <td>0</td>\n",
       "    </tr>\n",
       "    <tr>\n",
       "      <th>3</th>\n",
       "      <td>276729</td>\n",
       "      <td>052165615X</td>\n",
       "      <td>3</td>\n",
       "    </tr>\n",
       "    <tr>\n",
       "      <th>4</th>\n",
       "      <td>276729</td>\n",
       "      <td>0521795028</td>\n",
       "      <td>6</td>\n",
       "    </tr>\n",
       "  </tbody>\n",
       "</table>\n",
       "</div>"
      ],
      "text/plain": [
       "   userID        ISBN  bookRating\n",
       "0  276725  034545104X           0\n",
       "1  276726  0155061224           5\n",
       "2  276727  0446520802           0\n",
       "3  276729  052165615X           3\n",
       "4  276729  0521795028           6"
      ]
     },
     "execution_count": 32,
     "metadata": {},
     "output_type": "execute_result"
    }
   ],
   "source": [
    "new_ratings.head()"
   ]
  },
  {
   "cell_type": "code",
   "execution_count": 33,
   "id": "a9387c44",
   "metadata": {
    "id": "a9387c44",
    "outputId": "07e65704-0fdc-47a2-fca5-725024cbd966"
   },
   "outputs": [
    {
     "data": {
      "text/plain": [
       "array([ 0,  5,  3,  6,  8,  7, 10,  9,  4,  1,  2])"
      ]
     },
     "execution_count": 33,
     "metadata": {},
     "output_type": "execute_result"
    }
   ],
   "source": [
    "ratings.bookRating.unique()"
   ]
  },
  {
   "cell_type": "code",
   "execution_count": 34,
   "id": "8b59b8a6",
   "metadata": {
    "id": "8b59b8a6"
   },
   "outputs": [],
   "source": [
    "combine_book_rating = pd.merge(ratings,books, on = 'ISBN')\n",
    "columns = ['bookAuthor','yearOfPublication','publisher','imageUrlS','imageUrlM','imageUrlL'] \n",
    "#combining ratings and books dataset and dropping unnecessary columns"
   ]
  },
  {
   "cell_type": "code",
   "execution_count": 35,
   "id": "cd1f0e6c",
   "metadata": {
    "id": "cd1f0e6c",
    "outputId": "60821df6-d5f0-44d0-afa4-11e722808fb4"
   },
   "outputs": [
    {
     "data": {
      "text/html": [
       "<div>\n",
       "<style scoped>\n",
       "    .dataframe tbody tr th:only-of-type {\n",
       "        vertical-align: middle;\n",
       "    }\n",
       "\n",
       "    .dataframe tbody tr th {\n",
       "        vertical-align: top;\n",
       "    }\n",
       "\n",
       "    .dataframe thead th {\n",
       "        text-align: right;\n",
       "    }\n",
       "</style>\n",
       "<table border=\"1\" class=\"dataframe\">\n",
       "  <thead>\n",
       "    <tr style=\"text-align: right;\">\n",
       "      <th></th>\n",
       "      <th>userID</th>\n",
       "      <th>ISBN</th>\n",
       "      <th>bookRating</th>\n",
       "      <th>bookTitle</th>\n",
       "    </tr>\n",
       "  </thead>\n",
       "  <tbody>\n",
       "    <tr>\n",
       "      <th>0</th>\n",
       "      <td>276725</td>\n",
       "      <td>034545104X</td>\n",
       "      <td>0</td>\n",
       "      <td>Flesh Tones: A Novel</td>\n",
       "    </tr>\n",
       "    <tr>\n",
       "      <th>1</th>\n",
       "      <td>2313</td>\n",
       "      <td>034545104X</td>\n",
       "      <td>5</td>\n",
       "      <td>Flesh Tones: A Novel</td>\n",
       "    </tr>\n",
       "    <tr>\n",
       "      <th>2</th>\n",
       "      <td>6543</td>\n",
       "      <td>034545104X</td>\n",
       "      <td>0</td>\n",
       "      <td>Flesh Tones: A Novel</td>\n",
       "    </tr>\n",
       "    <tr>\n",
       "      <th>3</th>\n",
       "      <td>8680</td>\n",
       "      <td>034545104X</td>\n",
       "      <td>5</td>\n",
       "      <td>Flesh Tones: A Novel</td>\n",
       "    </tr>\n",
       "    <tr>\n",
       "      <th>4</th>\n",
       "      <td>10314</td>\n",
       "      <td>034545104X</td>\n",
       "      <td>9</td>\n",
       "      <td>Flesh Tones: A Novel</td>\n",
       "    </tr>\n",
       "  </tbody>\n",
       "</table>\n",
       "</div>"
      ],
      "text/plain": [
       "   userID        ISBN  bookRating             bookTitle\n",
       "0  276725  034545104X           0  Flesh Tones: A Novel\n",
       "1    2313  034545104X           5  Flesh Tones: A Novel\n",
       "2    6543  034545104X           0  Flesh Tones: A Novel\n",
       "3    8680  034545104X           5  Flesh Tones: A Novel\n",
       "4   10314  034545104X           9  Flesh Tones: A Novel"
      ]
     },
     "execution_count": 35,
     "metadata": {},
     "output_type": "execute_result"
    }
   ],
   "source": [
    "combine_book_rating = combine_book_rating.drop(columns, axis = 1)\n",
    "combine_book_rating.head()"
   ]
  },
  {
   "cell_type": "code",
   "execution_count": 36,
   "id": "ab3b55fe",
   "metadata": {
    "id": "ab3b55fe"
   },
   "outputs": [],
   "source": [
    "combine_book_rating = combine_book_rating.dropna(axis =0,subset =['bookTitle'])"
   ]
  },
  {
   "cell_type": "code",
   "execution_count": 37,
   "id": "030bdb46",
   "metadata": {
    "id": "030bdb46"
   },
   "outputs": [],
   "source": [
    "book_ratingcount = (combine_book_rating.\n",
    "                   groupby(by = ['bookTitle',])['bookRating'].\n",
    "                   count().\n",
    "                   reset_index().\n",
    "                   rename(columns = {'bookRating':'TotalRatingCount'})\n",
    "                   [['bookTitle','TotalRatingCount']])\n",
    "#calculating the total book rating count, it is important as popular books are rated by many users"
   ]
  },
  {
   "cell_type": "code",
   "execution_count": 38,
   "id": "ee455a3b",
   "metadata": {
    "id": "ee455a3b",
    "outputId": "60d03433-01ba-4bf7-fb84-4e1f6f571a45"
   },
   "outputs": [
    {
     "data": {
      "text/html": [
       "<div>\n",
       "<style scoped>\n",
       "    .dataframe tbody tr th:only-of-type {\n",
       "        vertical-align: middle;\n",
       "    }\n",
       "\n",
       "    .dataframe tbody tr th {\n",
       "        vertical-align: top;\n",
       "    }\n",
       "\n",
       "    .dataframe thead th {\n",
       "        text-align: right;\n",
       "    }\n",
       "</style>\n",
       "<table border=\"1\" class=\"dataframe\">\n",
       "  <thead>\n",
       "    <tr style=\"text-align: right;\">\n",
       "      <th></th>\n",
       "      <th>bookTitle</th>\n",
       "      <th>TotalRatingCount</th>\n",
       "    </tr>\n",
       "  </thead>\n",
       "  <tbody>\n",
       "    <tr>\n",
       "      <th>0</th>\n",
       "      <td>A Light in the Storm: The Civil War Diary of ...</td>\n",
       "      <td>4</td>\n",
       "    </tr>\n",
       "    <tr>\n",
       "      <th>1</th>\n",
       "      <td>Always Have Popsicles</td>\n",
       "      <td>1</td>\n",
       "    </tr>\n",
       "    <tr>\n",
       "      <th>2</th>\n",
       "      <td>Apple Magic (The Collector's series)</td>\n",
       "      <td>1</td>\n",
       "    </tr>\n",
       "    <tr>\n",
       "      <th>3</th>\n",
       "      <td>Ask Lily (Young Women of Faith: Lily Series, ...</td>\n",
       "      <td>1</td>\n",
       "    </tr>\n",
       "    <tr>\n",
       "      <th>4</th>\n",
       "      <td>Beyond IBM: Leadership Marketing and Finance ...</td>\n",
       "      <td>1</td>\n",
       "    </tr>\n",
       "  </tbody>\n",
       "</table>\n",
       "</div>"
      ],
      "text/plain": [
       "                                           bookTitle  TotalRatingCount\n",
       "0   A Light in the Storm: The Civil War Diary of ...                 4\n",
       "1                              Always Have Popsicles                 1\n",
       "2               Apple Magic (The Collector's series)                 1\n",
       "3   Ask Lily (Young Women of Faith: Lily Series, ...                 1\n",
       "4   Beyond IBM: Leadership Marketing and Finance ...                 1"
      ]
     },
     "execution_count": 38,
     "metadata": {},
     "output_type": "execute_result"
    }
   ],
   "source": [
    "book_ratingcount.head()"
   ]
  },
  {
   "cell_type": "code",
   "execution_count": 39,
   "id": "49bdb229",
   "metadata": {
    "id": "49bdb229"
   },
   "outputs": [],
   "source": [
    "rating_with_totalratingcount = combine_book_rating.merge(book_ratingcount, left_on= 'bookTitle', right_on='bookTitle', how='inner')\n",
    "#combining the total rating count with our merged datasets"
   ]
  },
  {
   "cell_type": "code",
   "execution_count": 40,
   "id": "cb09c9fe",
   "metadata": {
    "id": "cb09c9fe",
    "outputId": "0edc07b2-9ffb-419a-cc10-4f0076972b3c"
   },
   "outputs": [
    {
     "data": {
      "text/html": [
       "<div>\n",
       "<style scoped>\n",
       "    .dataframe tbody tr th:only-of-type {\n",
       "        vertical-align: middle;\n",
       "    }\n",
       "\n",
       "    .dataframe tbody tr th {\n",
       "        vertical-align: top;\n",
       "    }\n",
       "\n",
       "    .dataframe thead th {\n",
       "        text-align: right;\n",
       "    }\n",
       "</style>\n",
       "<table border=\"1\" class=\"dataframe\">\n",
       "  <thead>\n",
       "    <tr style=\"text-align: right;\">\n",
       "      <th></th>\n",
       "      <th>userID</th>\n",
       "      <th>ISBN</th>\n",
       "      <th>bookRating</th>\n",
       "      <th>bookTitle</th>\n",
       "      <th>TotalRatingCount</th>\n",
       "    </tr>\n",
       "  </thead>\n",
       "  <tbody>\n",
       "    <tr>\n",
       "      <th>0</th>\n",
       "      <td>276725</td>\n",
       "      <td>034545104X</td>\n",
       "      <td>0</td>\n",
       "      <td>Flesh Tones: A Novel</td>\n",
       "      <td>60</td>\n",
       "    </tr>\n",
       "    <tr>\n",
       "      <th>1</th>\n",
       "      <td>2313</td>\n",
       "      <td>034545104X</td>\n",
       "      <td>5</td>\n",
       "      <td>Flesh Tones: A Novel</td>\n",
       "      <td>60</td>\n",
       "    </tr>\n",
       "    <tr>\n",
       "      <th>2</th>\n",
       "      <td>6543</td>\n",
       "      <td>034545104X</td>\n",
       "      <td>0</td>\n",
       "      <td>Flesh Tones: A Novel</td>\n",
       "      <td>60</td>\n",
       "    </tr>\n",
       "    <tr>\n",
       "      <th>3</th>\n",
       "      <td>8680</td>\n",
       "      <td>034545104X</td>\n",
       "      <td>5</td>\n",
       "      <td>Flesh Tones: A Novel</td>\n",
       "      <td>60</td>\n",
       "    </tr>\n",
       "    <tr>\n",
       "      <th>4</th>\n",
       "      <td>10314</td>\n",
       "      <td>034545104X</td>\n",
       "      <td>9</td>\n",
       "      <td>Flesh Tones: A Novel</td>\n",
       "      <td>60</td>\n",
       "    </tr>\n",
       "  </tbody>\n",
       "</table>\n",
       "</div>"
      ],
      "text/plain": [
       "   userID        ISBN  bookRating             bookTitle  TotalRatingCount\n",
       "0  276725  034545104X           0  Flesh Tones: A Novel                60\n",
       "1    2313  034545104X           5  Flesh Tones: A Novel                60\n",
       "2    6543  034545104X           0  Flesh Tones: A Novel                60\n",
       "3    8680  034545104X           5  Flesh Tones: A Novel                60\n",
       "4   10314  034545104X           9  Flesh Tones: A Novel                60"
      ]
     },
     "execution_count": 40,
     "metadata": {},
     "output_type": "execute_result"
    }
   ],
   "source": [
    "rating_with_totalratingcount.head()"
   ]
  },
  {
   "cell_type": "code",
   "execution_count": 41,
   "id": "b13d9d4a",
   "metadata": {
    "id": "b13d9d4a"
   },
   "outputs": [],
   "source": [
    "popularity_threshold=50\n",
    "rating_popular_book=rating_with_totalratingcount.query('TotalRatingCount >= @popularity_threshold')"
   ]
  },
  {
   "cell_type": "code",
   "execution_count": 42,
   "id": "f59849ef",
   "metadata": {
    "id": "f59849ef",
    "outputId": "7043e9e7-5e06-4202-b337-d414a540a771"
   },
   "outputs": [
    {
     "name": "stdout",
     "output_type": "stream",
     "text": [
      "(1031136, 5)\n"
     ]
    },
    {
     "data": {
      "text/html": [
       "<div>\n",
       "<style scoped>\n",
       "    .dataframe tbody tr th:only-of-type {\n",
       "        vertical-align: middle;\n",
       "    }\n",
       "\n",
       "    .dataframe tbody tr th {\n",
       "        vertical-align: top;\n",
       "    }\n",
       "\n",
       "    .dataframe thead th {\n",
       "        text-align: right;\n",
       "    }\n",
       "</style>\n",
       "<table border=\"1\" class=\"dataframe\">\n",
       "  <thead>\n",
       "    <tr style=\"text-align: right;\">\n",
       "      <th></th>\n",
       "      <th>userID</th>\n",
       "      <th>ISBN</th>\n",
       "      <th>bookRating</th>\n",
       "      <th>bookTitle</th>\n",
       "      <th>TotalRatingCount</th>\n",
       "    </tr>\n",
       "  </thead>\n",
       "  <tbody>\n",
       "    <tr>\n",
       "      <th>0</th>\n",
       "      <td>276725</td>\n",
       "      <td>034545104X</td>\n",
       "      <td>0</td>\n",
       "      <td>Flesh Tones: A Novel</td>\n",
       "      <td>60</td>\n",
       "    </tr>\n",
       "    <tr>\n",
       "      <th>1</th>\n",
       "      <td>2313</td>\n",
       "      <td>034545104X</td>\n",
       "      <td>5</td>\n",
       "      <td>Flesh Tones: A Novel</td>\n",
       "      <td>60</td>\n",
       "    </tr>\n",
       "    <tr>\n",
       "      <th>2</th>\n",
       "      <td>6543</td>\n",
       "      <td>034545104X</td>\n",
       "      <td>0</td>\n",
       "      <td>Flesh Tones: A Novel</td>\n",
       "      <td>60</td>\n",
       "    </tr>\n",
       "    <tr>\n",
       "      <th>3</th>\n",
       "      <td>8680</td>\n",
       "      <td>034545104X</td>\n",
       "      <td>5</td>\n",
       "      <td>Flesh Tones: A Novel</td>\n",
       "      <td>60</td>\n",
       "    </tr>\n",
       "    <tr>\n",
       "      <th>4</th>\n",
       "      <td>10314</td>\n",
       "      <td>034545104X</td>\n",
       "      <td>9</td>\n",
       "      <td>Flesh Tones: A Novel</td>\n",
       "      <td>60</td>\n",
       "    </tr>\n",
       "  </tbody>\n",
       "</table>\n",
       "</div>"
      ],
      "text/plain": [
       "   userID        ISBN  bookRating             bookTitle  TotalRatingCount\n",
       "0  276725  034545104X           0  Flesh Tones: A Novel                60\n",
       "1    2313  034545104X           5  Flesh Tones: A Novel                60\n",
       "2    6543  034545104X           0  Flesh Tones: A Novel                60\n",
       "3    8680  034545104X           5  Flesh Tones: A Novel                60\n",
       "4   10314  034545104X           9  Flesh Tones: A Novel                60"
      ]
     },
     "execution_count": 42,
     "metadata": {},
     "output_type": "execute_result"
    }
   ],
   "source": [
    "print(rating_with_totalratingcount.shape)\n",
    "rating_with_totalratingcount.head()"
   ]
  },
  {
   "cell_type": "code",
   "execution_count": 43,
   "id": "dd069426",
   "metadata": {
    "id": "dd069426",
    "outputId": "1778ab54-e4bf-4351-b292-49b93c7f0cea"
   },
   "outputs": [
    {
     "data": {
      "text/plain": [
       "7085"
      ]
     },
     "execution_count": 43,
     "metadata": {},
     "output_type": "execute_result"
    }
   ],
   "source": [
    "rating_popular_book['ISBN'].nunique()\n",
    "#observed that there are over 6k popular books with rating count over 50"
   ]
  },
  {
   "cell_type": "code",
   "execution_count": 44,
   "id": "6354c54e",
   "metadata": {
    "id": "6354c54e",
    "outputId": "739c2e78-6791-4445-8f0d-f3f3614c2f2e"
   },
   "outputs": [
    {
     "data": {
      "text/html": [
       "<div>\n",
       "<style scoped>\n",
       "    .dataframe tbody tr th:only-of-type {\n",
       "        vertical-align: middle;\n",
       "    }\n",
       "\n",
       "    .dataframe tbody tr th {\n",
       "        vertical-align: top;\n",
       "    }\n",
       "\n",
       "    .dataframe thead th {\n",
       "        text-align: right;\n",
       "    }\n",
       "</style>\n",
       "<table border=\"1\" class=\"dataframe\">\n",
       "  <thead>\n",
       "    <tr style=\"text-align: right;\">\n",
       "      <th></th>\n",
       "      <th>userID</th>\n",
       "      <th>bookRating</th>\n",
       "      <th>bookTitle</th>\n",
       "      <th>TotalRatingCount</th>\n",
       "    </tr>\n",
       "  </thead>\n",
       "  <tbody>\n",
       "    <tr>\n",
       "      <th>0</th>\n",
       "      <td>276725</td>\n",
       "      <td>0</td>\n",
       "      <td>Flesh Tones: A Novel</td>\n",
       "      <td>60</td>\n",
       "    </tr>\n",
       "    <tr>\n",
       "      <th>1</th>\n",
       "      <td>2313</td>\n",
       "      <td>5</td>\n",
       "      <td>Flesh Tones: A Novel</td>\n",
       "      <td>60</td>\n",
       "    </tr>\n",
       "    <tr>\n",
       "      <th>2</th>\n",
       "      <td>6543</td>\n",
       "      <td>0</td>\n",
       "      <td>Flesh Tones: A Novel</td>\n",
       "      <td>60</td>\n",
       "    </tr>\n",
       "    <tr>\n",
       "      <th>3</th>\n",
       "      <td>8680</td>\n",
       "      <td>5</td>\n",
       "      <td>Flesh Tones: A Novel</td>\n",
       "      <td>60</td>\n",
       "    </tr>\n",
       "    <tr>\n",
       "      <th>4</th>\n",
       "      <td>10314</td>\n",
       "      <td>9</td>\n",
       "      <td>Flesh Tones: A Novel</td>\n",
       "      <td>60</td>\n",
       "    </tr>\n",
       "  </tbody>\n",
       "</table>\n",
       "</div>"
      ],
      "text/plain": [
       "   userID  bookRating             bookTitle  TotalRatingCount\n",
       "0  276725           0  Flesh Tones: A Novel                60\n",
       "1    2313           5  Flesh Tones: A Novel                60\n",
       "2    6543           0  Flesh Tones: A Novel                60\n",
       "3    8680           5  Flesh Tones: A Novel                60\n",
       "4   10314           9  Flesh Tones: A Novel                60"
      ]
     },
     "execution_count": 44,
     "metadata": {},
     "output_type": "execute_result"
    }
   ],
   "source": [
    "rating_popular_book = rating_popular_book.drop('ISBN',axis =1)\n",
    "rating_popular_book.head()"
   ]
  },
  {
   "cell_type": "code",
   "execution_count": 45,
   "id": "82977b5e",
   "metadata": {
    "id": "82977b5e",
    "outputId": "8f3c2314-b49c-4c29-be9d-820cc6732bca"
   },
   "outputs": [
    {
     "name": "stdout",
     "output_type": "stream",
     "text": [
      "Initial dataframe shape (288740, 4)\n",
      "New dataframe shape (285518, 4)\n",
      "Removed 3222 rows\n"
     ]
    }
   ],
   "source": [
    "if not rating_popular_book[rating_popular_book.duplicated(['userID','bookTitle'])].empty:\n",
    "    initial_rows=rating_popular_book.shape[0]\n",
    "    print('Initial dataframe shape {0}'.format(rating_popular_book.shape))\n",
    "    rating_popular_book = rating_popular_book.drop_duplicates(['userID','bookTitle'])\n",
    "    current_rows=rating_popular_book.shape[0]\n",
    "    print('New dataframe shape {0}'.format(rating_popular_book.shape))\n",
    "    print('Removed {0} rows'.format(initial_rows - current_rows))\n",
    "#removing duplicate userId's and BookTitles"
   ]
  },
  {
   "cell_type": "code",
   "execution_count": 46,
   "id": "6d1abfc4",
   "metadata": {
    "id": "6d1abfc4"
   },
   "outputs": [],
   "source": [
    "rating_popular_book =rating_popular_book[['userID', 'bookRating','TotalRatingCount','bookTitle']]\n",
    "#interchanging the columns so that our bookTitle is taken as classifier"
   ]
  },
  {
   "cell_type": "code",
   "execution_count": 47,
   "id": "d0c2d4a4",
   "metadata": {
    "id": "d0c2d4a4",
    "outputId": "4c74c59b-daf5-4f39-ce80-46d20b88d799"
   },
   "outputs": [
    {
     "data": {
      "text/html": [
       "<div>\n",
       "<style scoped>\n",
       "    .dataframe tbody tr th:only-of-type {\n",
       "        vertical-align: middle;\n",
       "    }\n",
       "\n",
       "    .dataframe tbody tr th {\n",
       "        vertical-align: top;\n",
       "    }\n",
       "\n",
       "    .dataframe thead th {\n",
       "        text-align: right;\n",
       "    }\n",
       "</style>\n",
       "<table border=\"1\" class=\"dataframe\">\n",
       "  <thead>\n",
       "    <tr style=\"text-align: right;\">\n",
       "      <th></th>\n",
       "      <th>userID</th>\n",
       "      <th>bookRating</th>\n",
       "      <th>TotalRatingCount</th>\n",
       "      <th>bookTitle</th>\n",
       "    </tr>\n",
       "  </thead>\n",
       "  <tbody>\n",
       "    <tr>\n",
       "      <th>0</th>\n",
       "      <td>276725</td>\n",
       "      <td>0</td>\n",
       "      <td>60</td>\n",
       "      <td>Flesh Tones: A Novel</td>\n",
       "    </tr>\n",
       "    <tr>\n",
       "      <th>1</th>\n",
       "      <td>2313</td>\n",
       "      <td>5</td>\n",
       "      <td>60</td>\n",
       "      <td>Flesh Tones: A Novel</td>\n",
       "    </tr>\n",
       "    <tr>\n",
       "      <th>2</th>\n",
       "      <td>6543</td>\n",
       "      <td>0</td>\n",
       "      <td>60</td>\n",
       "      <td>Flesh Tones: A Novel</td>\n",
       "    </tr>\n",
       "    <tr>\n",
       "      <th>3</th>\n",
       "      <td>8680</td>\n",
       "      <td>5</td>\n",
       "      <td>60</td>\n",
       "      <td>Flesh Tones: A Novel</td>\n",
       "    </tr>\n",
       "    <tr>\n",
       "      <th>4</th>\n",
       "      <td>10314</td>\n",
       "      <td>9</td>\n",
       "      <td>60</td>\n",
       "      <td>Flesh Tones: A Novel</td>\n",
       "    </tr>\n",
       "    <tr>\n",
       "      <th>...</th>\n",
       "      <td>...</td>\n",
       "      <td>...</td>\n",
       "      <td>...</td>\n",
       "      <td>...</td>\n",
       "    </tr>\n",
       "    <tr>\n",
       "      <th>730559</th>\n",
       "      <td>223942</td>\n",
       "      <td>0</td>\n",
       "      <td>68</td>\n",
       "      <td>Love in Another Town</td>\n",
       "    </tr>\n",
       "    <tr>\n",
       "      <th>730561</th>\n",
       "      <td>231210</td>\n",
       "      <td>0</td>\n",
       "      <td>68</td>\n",
       "      <td>Love in Another Town</td>\n",
       "    </tr>\n",
       "    <tr>\n",
       "      <th>730562</th>\n",
       "      <td>238781</td>\n",
       "      <td>5</td>\n",
       "      <td>68</td>\n",
       "      <td>Love in Another Town</td>\n",
       "    </tr>\n",
       "    <tr>\n",
       "      <th>730563</th>\n",
       "      <td>244349</td>\n",
       "      <td>0</td>\n",
       "      <td>68</td>\n",
       "      <td>Love in Another Town</td>\n",
       "    </tr>\n",
       "    <tr>\n",
       "      <th>730564</th>\n",
       "      <td>258352</td>\n",
       "      <td>0</td>\n",
       "      <td>68</td>\n",
       "      <td>Love in Another Town</td>\n",
       "    </tr>\n",
       "  </tbody>\n",
       "</table>\n",
       "<p>285518 rows × 4 columns</p>\n",
       "</div>"
      ],
      "text/plain": [
       "        userID  bookRating  TotalRatingCount             bookTitle\n",
       "0       276725           0                60  Flesh Tones: A Novel\n",
       "1         2313           5                60  Flesh Tones: A Novel\n",
       "2         6543           0                60  Flesh Tones: A Novel\n",
       "3         8680           5                60  Flesh Tones: A Novel\n",
       "4        10314           9                60  Flesh Tones: A Novel\n",
       "...        ...         ...               ...                   ...\n",
       "730559  223942           0                68  Love in Another Town\n",
       "730561  231210           0                68  Love in Another Town\n",
       "730562  238781           5                68  Love in Another Town\n",
       "730563  244349           0                68  Love in Another Town\n",
       "730564  258352           0                68  Love in Another Town\n",
       "\n",
       "[285518 rows x 4 columns]"
      ]
     },
     "execution_count": 47,
     "metadata": {},
     "output_type": "execute_result"
    }
   ],
   "source": [
    "rating_popular_book"
   ]
  },
  {
   "cell_type": "markdown",
   "id": "ed8ec156",
   "metadata": {
    "id": "ed8ec156"
   },
   "source": [
    "# Implementing KNN"
   ]
  },
  {
   "cell_type": "code",
   "execution_count": 48,
   "id": "064b367d",
   "metadata": {
    "colab": {
     "base_uri": "https://localhost:8080/",
     "height": 184
    },
    "executionInfo": {
     "elapsed": 222,
     "status": "error",
     "timestamp": 1638908789015,
     "user": {
      "displayName": "Abhishek Premnath",
      "photoUrl": "https://lh3.googleusercontent.com/a/default-user=s64",
      "userId": "03572912638388765361"
     },
     "user_tz": 480
    },
    "id": "064b367d",
    "outputId": "e5f8713c-560a-4501-8a71-7e01c616dfe7"
   },
   "outputs": [],
   "source": [
    "df=rating_popular_book.values.tolist()\n",
    "#converting our values into list to use in the algorithm"
   ]
  },
  {
   "cell_type": "code",
   "execution_count": 49,
   "id": "bd135e94",
   "metadata": {
    "executionInfo": {
     "elapsed": 216,
     "status": "aborted",
     "timestamp": 1638908789012,
     "user": {
      "displayName": "Abhishek Premnath",
      "photoUrl": "https://lh3.googleusercontent.com/a/default-user=s64",
      "userId": "03572912638388765361"
     },
     "user_tz": 480
    },
    "id": "bd135e94"
   },
   "outputs": [
    {
     "data": {
      "text/plain": [
       "[[276725, 0, 60, 'Flesh Tones: A Novel'],\n",
       " [2313, 5, 60, 'Flesh Tones: A Novel'],\n",
       " [6543, 0, 60, 'Flesh Tones: A Novel'],\n",
       " [8680, 5, 60, 'Flesh Tones: A Novel'],\n",
       " [10314, 9, 60, 'Flesh Tones: A Novel'],\n",
       " [23768, 0, 60, 'Flesh Tones: A Novel'],\n",
       " [28266, 0, 60, 'Flesh Tones: A Novel'],\n",
       " [28523, 0, 60, 'Flesh Tones: A Novel'],\n",
       " [39002, 0, 60, 'Flesh Tones: A Novel'],\n",
       " [50403, 9, 60, 'Flesh Tones: A Novel'],\n",
       " [56157, 0, 60, 'Flesh Tones: A Novel'],\n",
       " [59102, 0, 60, 'Flesh Tones: A Novel'],\n",
       " [59287, 0, 60, 'Flesh Tones: A Novel'],\n",
       " [63970, 8, 60, 'Flesh Tones: A Novel'],\n",
       " [77480, 8, 60, 'Flesh Tones: A Novel'],\n",
       " [77940, 0, 60, 'Flesh Tones: A Novel'],\n",
       " [81977, 0, 60, 'Flesh Tones: A Novel'],\n",
       " [94362, 5, 60, 'Flesh Tones: A Novel'],\n",
       " [98391, 9, 60, 'Flesh Tones: A Novel'],\n",
       " [112199, 6, 60, 'Flesh Tones: A Novel'],\n",
       " [115435, 5, 60, 'Flesh Tones: A Novel'],\n",
       " [123981, 0, 60, 'Flesh Tones: A Novel'],\n",
       " [128045, 7, 60, 'Flesh Tones: A Novel'],\n",
       " [128276, 5, 60, 'Flesh Tones: A Novel'],\n",
       " [129311, 7, 60, 'Flesh Tones: A Novel'],\n",
       " [132081, 0, 60, 'Flesh Tones: A Novel'],\n",
       " [133235, 0, 60, 'Flesh Tones: A Novel'],\n",
       " [135045, 0, 60, 'Flesh Tones: A Novel'],\n",
       " [138543, 0, 60, 'Flesh Tones: A Novel'],\n",
       " [144315, 0, 60, 'Flesh Tones: A Novel'],\n",
       " [144486, 0, 60, 'Flesh Tones: A Novel'],\n",
       " [145451, 0, 60, 'Flesh Tones: A Novel'],\n",
       " [147799, 0, 60, 'Flesh Tones: A Novel'],\n",
       " [158506, 0, 60, 'Flesh Tones: A Novel'],\n",
       " [163202, 0, 60, 'Flesh Tones: A Novel'],\n",
       " [168816, 0, 60, 'Flesh Tones: A Novel'],\n",
       " [171912, 5, 60, 'Flesh Tones: A Novel'],\n",
       " [173743, 0, 60, 'Flesh Tones: A Novel'],\n",
       " [174834, 0, 60, 'Flesh Tones: A Novel'],\n",
       " [188513, 4, 60, 'Flesh Tones: A Novel'],\n",
       " [195374, 0, 60, 'Flesh Tones: A Novel'],\n",
       " [208019, 0, 60, 'Flesh Tones: A Novel'],\n",
       " [208406, 6, 60, 'Flesh Tones: A Novel'],\n",
       " [210597, 9, 60, 'Flesh Tones: A Novel'],\n",
       " [214011, 10, 60, 'Flesh Tones: A Novel'],\n",
       " [220502, 3, 60, 'Flesh Tones: A Novel'],\n",
       " [227106, 0, 60, 'Flesh Tones: A Novel'],\n",
       " [227447, 0, 60, 'Flesh Tones: A Novel'],\n",
       " [227520, 0, 60, 'Flesh Tones: A Novel'],\n",
       " [227886, 3, 60, 'Flesh Tones: A Novel'],\n",
       " [240144, 3, 60, 'Flesh Tones: A Novel'],\n",
       " [243142, 9, 60, 'Flesh Tones: A Novel'],\n",
       " [244420, 8, 60, 'Flesh Tones: A Novel'],\n",
       " [255502, 6, 60, 'Flesh Tones: A Novel'],\n",
       " [257492, 5, 60, 'Flesh Tones: A Novel'],\n",
       " [260897, 3, 60, 'Flesh Tones: A Novel'],\n",
       " [263003, 7, 60, 'Flesh Tones: A Novel'],\n",
       " [268191, 0, 60, 'Flesh Tones: A Novel'],\n",
       " [271448, 0, 60, 'Flesh Tones: A Novel'],\n",
       " [274925, 7, 60, 'Flesh Tones: A Novel'],\n",
       " [276727, 0, 650, 'The Notebook'],\n",
       " [278418, 0, 650, 'The Notebook'],\n",
       " [638, 0, 650, 'The Notebook'],\n",
       " [3363, 0, 650, 'The Notebook'],\n",
       " [7158, 10, 650, 'The Notebook'],\n",
       " [8253, 10, 650, 'The Notebook'],\n",
       " [9939, 0, 650, 'The Notebook'],\n",
       " [11676, 10, 650, 'The Notebook'],\n",
       " [12589, 9, 650, 'The Notebook'],\n",
       " [13279, 10, 650, 'The Notebook'],\n",
       " [16046, 0, 650, 'The Notebook'],\n",
       " [19371, 4, 650, 'The Notebook'],\n",
       " [23768, 6, 650, 'The Notebook'],\n",
       " [24878, 7, 650, 'The Notebook'],\n",
       " [26525, 10, 650, 'The Notebook'],\n",
       " [27617, 9, 650, 'The Notebook'],\n",
       " [28204, 0, 650, 'The Notebook'],\n",
       " [29855, 0, 650, 'The Notebook'],\n",
       " [30261, 10, 650, 'The Notebook'],\n",
       " [30711, 6, 650, 'The Notebook'],\n",
       " [32440, 0, 650, 'The Notebook'],\n",
       " [33974, 0, 650, 'The Notebook'],\n",
       " [35845, 5, 650, 'The Notebook'],\n",
       " [37556, 0, 650, 'The Notebook'],\n",
       " [39396, 0, 650, 'The Notebook'],\n",
       " [41237, 0, 650, 'The Notebook'],\n",
       " [43146, 0, 650, 'The Notebook'],\n",
       " [44925, 0, 650, 'The Notebook'],\n",
       " [54823, 9, 650, 'The Notebook'],\n",
       " [63507, 8, 650, 'The Notebook'],\n",
       " [64544, 8, 650, 'The Notebook'],\n",
       " [64679, 6, 650, 'The Notebook'],\n",
       " [79977, 0, 650, 'The Notebook'],\n",
       " [85993, 10, 650, 'The Notebook'],\n",
       " [91761, 6, 650, 'The Notebook'],\n",
       " [98153, 0, 650, 'The Notebook'],\n",
       " [99085, 10, 650, 'The Notebook'],\n",
       " [99720, 9, 650, 'The Notebook'],\n",
       " [102967, 0, 650, 'The Notebook'],\n",
       " [103190, 0, 650, 'The Notebook'],\n",
       " [105979, 0, 650, 'The Notebook'],\n",
       " [113340, 0, 650, 'The Notebook'],\n",
       " [115473, 0, 650, 'The Notebook'],\n",
       " [115490, 0, 650, 'The Notebook'],\n",
       " [116577, 0, 650, 'The Notebook'],\n",
       " [131993, 10, 650, 'The Notebook'],\n",
       " [132616, 0, 650, 'The Notebook'],\n",
       " [132792, 9, 650, 'The Notebook'],\n",
       " [133498, 10, 650, 'The Notebook'],\n",
       " [135831, 0, 650, 'The Notebook'],\n",
       " [138176, 0, 650, 'The Notebook'],\n",
       " [139064, 10, 650, 'The Notebook'],\n",
       " [141444, 7, 650, 'The Notebook'],\n",
       " [144455, 0, 650, 'The Notebook'],\n",
       " [144729, 0, 650, 'The Notebook'],\n",
       " [145369, 0, 650, 'The Notebook'],\n",
       " [150691, 0, 650, 'The Notebook'],\n",
       " [151002, 0, 650, 'The Notebook'],\n",
       " [152376, 9, 650, 'The Notebook'],\n",
       " [153718, 7, 650, 'The Notebook'],\n",
       " [154992, 8, 650, 'The Notebook'],\n",
       " [157823, 10, 650, 'The Notebook'],\n",
       " [158295, 8, 650, 'The Notebook'],\n",
       " [159033, 0, 650, 'The Notebook'],\n",
       " [167812, 10, 650, 'The Notebook'],\n",
       " [169699, 8, 650, 'The Notebook'],\n",
       " [169784, 10, 650, 'The Notebook'],\n",
       " [170902, 10, 650, 'The Notebook'],\n",
       " [172539, 7, 650, 'The Notebook'],\n",
       " [181687, 9, 650, 'The Notebook'],\n",
       " [185233, 7, 650, 'The Notebook'],\n",
       " [187043, 0, 650, 'The Notebook'],\n",
       " [187863, 5, 650, 'The Notebook'],\n",
       " [188010, 0, 650, 'The Notebook'],\n",
       " [190374, 8, 650, 'The Notebook'],\n",
       " [192095, 10, 650, 'The Notebook'],\n",
       " [194669, 0, 650, 'The Notebook'],\n",
       " [199799, 10, 650, 'The Notebook'],\n",
       " [200226, 9, 650, 'The Notebook'],\n",
       " [201017, 0, 650, 'The Notebook'],\n",
       " [201036, 9, 650, 'The Notebook'],\n",
       " [201349, 0, 650, 'The Notebook'],\n",
       " [203240, 0, 650, 'The Notebook'],\n",
       " [208671, 9, 650, 'The Notebook'],\n",
       " [208829, 0, 650, 'The Notebook'],\n",
       " [211361, 9, 650, 'The Notebook'],\n",
       " [211461, 0, 650, 'The Notebook'],\n",
       " [218875, 8, 650, 'The Notebook'],\n",
       " [220911, 0, 650, 'The Notebook'],\n",
       " [230522, 0, 650, 'The Notebook'],\n",
       " [231237, 0, 650, 'The Notebook'],\n",
       " [234623, 0, 650, 'The Notebook'],\n",
       " [235105, 0, 650, 'The Notebook'],\n",
       " [235218, 8, 650, 'The Notebook'],\n",
       " [238120, 0, 650, 'The Notebook'],\n",
       " [238781, 0, 650, 'The Notebook'],\n",
       " [239135, 8, 650, 'The Notebook'],\n",
       " [240756, 9, 650, 'The Notebook'],\n",
       " [240829, 0, 650, 'The Notebook'],\n",
       " [242914, 0, 650, 'The Notebook'],\n",
       " [245568, 2, 650, 'The Notebook'],\n",
       " [248477, 6, 650, 'The Notebook'],\n",
       " [249200, 10, 650, 'The Notebook'],\n",
       " [249359, 0, 650, 'The Notebook'],\n",
       " [254405, 0, 650, 'The Notebook'],\n",
       " [255288, 0, 650, 'The Notebook'],\n",
       " [258534, 0, 650, 'The Notebook'],\n",
       " [259555, 0, 650, 'The Notebook'],\n",
       " [263460, 0, 650, 'The Notebook'],\n",
       " [265383, 10, 650, 'The Notebook'],\n",
       " [268540, 10, 650, 'The Notebook'],\n",
       " [268692, 0, 650, 'The Notebook'],\n",
       " [268751, 10, 650, 'The Notebook'],\n",
       " [271195, 0, 650, 'The Notebook'],\n",
       " [275631, 0, 650, 'The Notebook'],\n",
       " [275970, 0, 650, 'The Notebook'],\n",
       " [278107, 8, 650, 'The Notebook'],\n",
       " [278144, 0, 650, 'The Notebook'],\n",
       " [278543, 5, 650, 'The Notebook'],\n",
       " [254, 0, 650, 'The Notebook'],\n",
       " [882, 0, 650, 'The Notebook'],\n",
       " [2089, 10, 650, 'The Notebook'],\n",
       " [2127, 8, 650, 'The Notebook'],\n",
       " [3460, 6, 650, 'The Notebook'],\n",
       " [5903, 0, 650, 'The Notebook'],\n",
       " [6347, 7, 650, 'The Notebook'],\n",
       " [6772, 5, 650, 'The Notebook'],\n",
       " [6991, 9, 650, 'The Notebook'],\n",
       " [7346, 0, 650, 'The Notebook'],\n",
       " [7915, 0, 650, 'The Notebook'],\n",
       " [9391, 0, 650, 'The Notebook'],\n",
       " [10686, 0, 650, 'The Notebook'],\n",
       " [13048, 8, 650, 'The Notebook'],\n",
       " [13121, 7, 650, 'The Notebook'],\n",
       " [13709, 10, 650, 'The Notebook'],\n",
       " [14422, 0, 650, 'The Notebook'],\n",
       " [14521, 0, 650, 'The Notebook'],\n",
       " [16461, 8, 650, 'The Notebook'],\n",
       " [16718, 9, 650, 'The Notebook'],\n",
       " [16795, 10, 650, 'The Notebook'],\n",
       " [17950, 6, 650, 'The Notebook'],\n",
       " [18082, 9, 650, 'The Notebook'],\n",
       " [18433, 9, 650, 'The Notebook'],\n",
       " [18913, 8, 650, 'The Notebook'],\n",
       " [19085, 0, 650, 'The Notebook'],\n",
       " [19664, 4, 650, 'The Notebook'],\n",
       " [23666, 0, 650, 'The Notebook'],\n",
       " [24186, 0, 650, 'The Notebook'],\n",
       " [24194, 0, 650, 'The Notebook'],\n",
       " [26374, 5, 650, 'The Notebook'],\n",
       " [26535, 0, 650, 'The Notebook'],\n",
       " [26544, 0, 650, 'The Notebook'],\n",
       " [27193, 0, 650, 'The Notebook'],\n",
       " [27462, 8, 650, 'The Notebook'],\n",
       " [27472, 7, 650, 'The Notebook'],\n",
       " [28486, 9, 650, 'The Notebook'],\n",
       " [29259, 0, 650, 'The Notebook'],\n",
       " [30276, 0, 650, 'The Notebook'],\n",
       " [30445, 8, 650, 'The Notebook'],\n",
       " [30898, 4, 650, 'The Notebook'],\n",
       " [31040, 0, 650, 'The Notebook'],\n",
       " [31315, 0, 650, 'The Notebook'],\n",
       " [31846, 0, 650, 'The Notebook'],\n",
       " [32032, 0, 650, 'The Notebook'],\n",
       " [33319, 0, 650, 'The Notebook'],\n",
       " [34279, 7, 650, 'The Notebook'],\n",
       " [34344, 7, 650, 'The Notebook'],\n",
       " [34608, 0, 650, 'The Notebook'],\n",
       " [35857, 0, 650, 'The Notebook'],\n",
       " [35859, 0, 650, 'The Notebook'],\n",
       " [35996, 0, 650, 'The Notebook'],\n",
       " [36327, 0, 650, 'The Notebook'],\n",
       " [36606, 10, 650, 'The Notebook'],\n",
       " [36678, 10, 650, 'The Notebook'],\n",
       " [37572, 7, 650, 'The Notebook'],\n",
       " [37736, 0, 650, 'The Notebook'],\n",
       " [38335, 10, 650, 'The Notebook'],\n",
       " [38657, 9, 650, 'The Notebook'],\n",
       " [38825, 0, 650, 'The Notebook'],\n",
       " [38972, 8, 650, 'The Notebook'],\n",
       " [39281, 0, 650, 'The Notebook'],\n",
       " [39646, 0, 650, 'The Notebook'],\n",
       " [40798, 8, 650, 'The Notebook'],\n",
       " [40889, 0, 650, 'The Notebook'],\n",
       " [41324, 2, 650, 'The Notebook'],\n",
       " [41455, 0, 650, 'The Notebook'],\n",
       " [41460, 4, 650, 'The Notebook'],\n",
       " [41841, 3, 650, 'The Notebook'],\n",
       " [42509, 0, 650, 'The Notebook'],\n",
       " [43246, 9, 650, 'The Notebook'],\n",
       " [43842, 0, 650, 'The Notebook'],\n",
       " [44845, 0, 650, 'The Notebook'],\n",
       " [45806, 10, 650, 'The Notebook'],\n",
       " [46398, 4, 650, 'The Notebook'],\n",
       " [46907, 0, 650, 'The Notebook'],\n",
       " [48213, 0, 650, 'The Notebook'],\n",
       " [48268, 5, 650, 'The Notebook'],\n",
       " [48975, 0, 650, 'The Notebook'],\n",
       " [49155, 8, 650, 'The Notebook'],\n",
       " [49212, 5, 650, 'The Notebook'],\n",
       " [49277, 7, 650, 'The Notebook'],\n",
       " [50193, 7, 650, 'The Notebook'],\n",
       " [50204, 0, 650, 'The Notebook'],\n",
       " [51350, 8, 650, 'The Notebook'],\n",
       " [51938, 0, 650, 'The Notebook'],\n",
       " [52584, 0, 650, 'The Notebook'],\n",
       " [52853, 0, 650, 'The Notebook'],\n",
       " [53174, 10, 650, 'The Notebook'],\n",
       " [53418, 0, 650, 'The Notebook'],\n",
       " [53537, 9, 650, 'The Notebook'],\n",
       " [54895, 9, 650, 'The Notebook'],\n",
       " [55492, 0, 650, 'The Notebook'],\n",
       " [55548, 0, 650, 'The Notebook'],\n",
       " [56045, 7, 650, 'The Notebook'],\n",
       " [56447, 0, 650, 'The Notebook'],\n",
       " [56554, 10, 650, 'The Notebook'],\n",
       " [57398, 0, 650, 'The Notebook'],\n",
       " [58389, 10, 650, 'The Notebook'],\n",
       " [59150, 0, 650, 'The Notebook'],\n",
       " [59390, 10, 650, 'The Notebook'],\n",
       " [62895, 0, 650, 'The Notebook'],\n",
       " [63101, 3, 650, 'The Notebook'],\n",
       " [64372, 0, 650, 'The Notebook'],\n",
       " [65350, 9, 650, 'The Notebook'],\n",
       " [65663, 10, 650, 'The Notebook'],\n",
       " [66323, 4, 650, 'The Notebook'],\n",
       " [66473, 8, 650, 'The Notebook'],\n",
       " [66680, 0, 650, 'The Notebook'],\n",
       " [67030, 8, 650, 'The Notebook'],\n",
       " [67930, 10, 650, 'The Notebook'],\n",
       " [68555, 8, 650, 'The Notebook'],\n",
       " [68586, 9, 650, 'The Notebook'],\n",
       " [68721, 0, 650, 'The Notebook'],\n",
       " [69232, 0, 650, 'The Notebook'],\n",
       " [70666, 5, 650, 'The Notebook'],\n",
       " [71470, 0, 650, 'The Notebook'],\n",
       " [71490, 7, 650, 'The Notebook'],\n",
       " [72214, 0, 650, 'The Notebook'],\n",
       " [73394, 0, 650, 'The Notebook'],\n",
       " [74356, 0, 650, 'The Notebook'],\n",
       " [74758, 10, 650, 'The Notebook'],\n",
       " [76352, 0, 650, 'The Notebook'],\n",
       " [76942, 0, 650, 'The Notebook'],\n",
       " [78783, 0, 650, 'The Notebook'],\n",
       " [78847, 5, 650, 'The Notebook'],\n",
       " [80683, 0, 650, 'The Notebook'],\n",
       " [81216, 0, 650, 'The Notebook'],\n",
       " [81298, 0, 650, 'The Notebook'],\n",
       " [81682, 5, 650, 'The Notebook'],\n",
       " [81977, 0, 650, 'The Notebook'],\n",
       " [82164, 7, 650, 'The Notebook'],\n",
       " [82511, 6, 650, 'The Notebook'],\n",
       " [83337, 8, 650, 'The Notebook'],\n",
       " [84024, 0, 650, 'The Notebook'],\n",
       " [84476, 0, 650, 'The Notebook'],\n",
       " [87746, 0, 650, 'The Notebook'],\n",
       " [88389, 7, 650, 'The Notebook'],\n",
       " [88738, 0, 650, 'The Notebook'],\n",
       " [93629, 0, 650, 'The Notebook'],\n",
       " [93631, 2, 650, 'The Notebook'],\n",
       " [94494, 10, 650, 'The Notebook'],\n",
       " [96054, 0, 650, 'The Notebook'],\n",
       " [96635, 10, 650, 'The Notebook'],\n",
       " [98628, 10, 650, 'The Notebook'],\n",
       " [98721, 0, 650, 'The Notebook'],\n",
       " [99955, 4, 650, 'The Notebook'],\n",
       " [101876, 7, 650, 'The Notebook'],\n",
       " [101882, 10, 650, 'The Notebook'],\n",
       " [102705, 0, 650, 'The Notebook'],\n",
       " [104311, 0, 650, 'The Notebook'],\n",
       " [104429, 9, 650, 'The Notebook'],\n",
       " [104657, 0, 650, 'The Notebook'],\n",
       " [104665, 0, 650, 'The Notebook'],\n",
       " [105374, 0, 650, 'The Notebook'],\n",
       " [106208, 10, 650, 'The Notebook'],\n",
       " [106225, 0, 650, 'The Notebook'],\n",
       " [107021, 0, 650, 'The Notebook'],\n",
       " [108352, 0, 650, 'The Notebook'],\n",
       " [110746, 0, 650, 'The Notebook'],\n",
       " [110912, 0, 650, 'The Notebook'],\n",
       " [112026, 0, 650, 'The Notebook'],\n",
       " [112240, 0, 650, 'The Notebook'],\n",
       " [112559, 7, 650, 'The Notebook'],\n",
       " [112881, 0, 650, 'The Notebook'],\n",
       " [113122, 0, 650, 'The Notebook'],\n",
       " [113657, 6, 650, 'The Notebook'],\n",
       " [113721, 7, 650, 'The Notebook'],\n",
       " [114414, 0, 650, 'The Notebook'],\n",
       " [115002, 0, 650, 'The Notebook'],\n",
       " [116243, 0, 650, 'The Notebook'],\n",
       " [116505, 7, 650, 'The Notebook'],\n",
       " [116599, 0, 650, 'The Notebook'],\n",
       " [117111, 9, 650, 'The Notebook'],\n",
       " [117291, 0, 650, 'The Notebook'],\n",
       " [117407, 10, 650, 'The Notebook'],\n",
       " [117895, 0, 650, 'The Notebook'],\n",
       " [119224, 0, 650, 'The Notebook'],\n",
       " [120598, 9, 650, 'The Notebook'],\n",
       " [120908, 8, 650, 'The Notebook'],\n",
       " [122716, 0, 650, 'The Notebook'],\n",
       " [122793, 0, 650, 'The Notebook'],\n",
       " [122988, 0, 650, 'The Notebook'],\n",
       " [123095, 10, 650, 'The Notebook'],\n",
       " [123824, 8, 650, 'The Notebook'],\n",
       " [123825, 0, 650, 'The Notebook'],\n",
       " [123883, 5, 650, 'The Notebook'],\n",
       " [125287, 8, 650, 'The Notebook'],\n",
       " [126296, 0, 650, 'The Notebook'],\n",
       " [126903, 5, 650, 'The Notebook'],\n",
       " [127233, 0, 650, 'The Notebook'],\n",
       " [127359, 0, 650, 'The Notebook'],\n",
       " [127661, 8, 650, 'The Notebook'],\n",
       " [128040, 10, 650, 'The Notebook'],\n",
       " [128122, 10, 650, 'The Notebook'],\n",
       " [128325, 0, 650, 'The Notebook'],\n",
       " [128588, 6, 650, 'The Notebook'],\n",
       " [129393, 0, 650, 'The Notebook'],\n",
       " [129640, 0, 650, 'The Notebook'],\n",
       " [130438, 0, 650, 'The Notebook'],\n",
       " [130847, 10, 650, 'The Notebook'],\n",
       " [131191, 7, 650, 'The Notebook'],\n",
       " [131402, 0, 650, 'The Notebook'],\n",
       " [132010, 5, 650, 'The Notebook'],\n",
       " [132457, 3, 650, 'The Notebook'],\n",
       " [132652, 0, 650, 'The Notebook'],\n",
       " [133689, 5, 650, 'The Notebook'],\n",
       " [135045, 0, 650, 'The Notebook'],\n",
       " [138189, 10, 650, 'The Notebook'],\n",
       " [138300, 0, 650, 'The Notebook'],\n",
       " [138883, 10, 650, 'The Notebook'],\n",
       " [139673, 8, 650, 'The Notebook'],\n",
       " [139742, 0, 650, 'The Notebook'],\n",
       " [139913, 10, 650, 'The Notebook'],\n",
       " [140013, 0, 650, 'The Notebook'],\n",
       " [140662, 10, 650, 'The Notebook'],\n",
       " [141493, 10, 650, 'The Notebook'],\n",
       " [142093, 0, 650, 'The Notebook'],\n",
       " [142515, 0, 650, 'The Notebook'],\n",
       " [143163, 10, 650, 'The Notebook'],\n",
       " [143236, 0, 650, 'The Notebook'],\n",
       " [143253, 0, 650, 'The Notebook'],\n",
       " [143563, 0, 650, 'The Notebook'],\n",
       " [144531, 0, 650, 'The Notebook'],\n",
       " [144619, 0, 650, 'The Notebook'],\n",
       " [144925, 10, 650, 'The Notebook'],\n",
       " [145451, 10, 650, 'The Notebook'],\n",
       " [145641, 7, 650, 'The Notebook'],\n",
       " [147764, 0, 650, 'The Notebook'],\n",
       " [147847, 9, 650, 'The Notebook'],\n",
       " [147965, 0, 650, 'The Notebook'],\n",
       " [148662, 8, 650, 'The Notebook'],\n",
       " [148695, 10, 650, 'The Notebook'],\n",
       " [148744, 0, 650, 'The Notebook'],\n",
       " [148898, 10, 650, 'The Notebook'],\n",
       " [149071, 7, 650, 'The Notebook'],\n",
       " [149934, 9, 650, 'The Notebook'],\n",
       " [150704, 1, 650, 'The Notebook'],\n",
       " [150979, 0, 650, 'The Notebook'],\n",
       " [151004, 10, 650, 'The Notebook'],\n",
       " [151613, 0, 650, 'The Notebook'],\n",
       " [151780, 0, 650, 'The Notebook'],\n",
       " [152696, 10, 650, 'The Notebook'],\n",
       " [153662, 0, 650, 'The Notebook'],\n",
       " [154439, 7, 650, 'The Notebook'],\n",
       " [154730, 0, 650, 'The Notebook'],\n",
       " [155014, 7, 650, 'The Notebook'],\n",
       " [162380, 0, 650, 'The Notebook'],\n",
       " [162590, 0, 650, 'The Notebook'],\n",
       " [162780, 9, 650, 'The Notebook'],\n",
       " [163169, 6, 650, 'The Notebook'],\n",
       " [165582, 9, 650, 'The Notebook'],\n",
       " [167791, 7, 650, 'The Notebook'],\n",
       " [167800, 0, 650, 'The Notebook'],\n",
       " [167846, 10, 650, 'The Notebook'],\n",
       " [168036, 0, 650, 'The Notebook'],\n",
       " [168307, 10, 650, 'The Notebook'],\n",
       " [168484, 0, 650, 'The Notebook'],\n",
       " [169663, 0, 650, 'The Notebook'],\n",
       " [169710, 0, 650, 'The Notebook'],\n",
       " [169779, 0, 650, 'The Notebook'],\n",
       " [170346, 0, 650, 'The Notebook'],\n",
       " [170513, 0, 650, 'The Notebook'],\n",
       " [170575, 0, 650, 'The Notebook'],\n",
       " [171114, 9, 650, 'The Notebook'],\n",
       " [172533, 0, 650, 'The Notebook'],\n",
       " [173415, 0, 650, 'The Notebook'],\n",
       " [174304, 0, 650, 'The Notebook'],\n",
       " [175003, 0, 650, 'The Notebook'],\n",
       " [175287, 0, 650, 'The Notebook'],\n",
       " [176256, 0, 650, 'The Notebook'],\n",
       " [177113, 7, 650, 'The Notebook'],\n",
       " [178240, 0, 650, 'The Notebook'],\n",
       " [178667, 0, 650, 'The Notebook'],\n",
       " [178701, 0, 650, 'The Notebook'],\n",
       " [179075, 10, 650, 'The Notebook'],\n",
       " [179290, 0, 650, 'The Notebook'],\n",
       " [179733, 0, 650, 'The Notebook'],\n",
       " [180042, 0, 650, 'The Notebook'],\n",
       " [180937, 8, 650, 'The Notebook'],\n",
       " [181176, 10, 650, 'The Notebook'],\n",
       " [182053, 0, 650, 'The Notebook'],\n",
       " [182085, 0, 650, 'The Notebook'],\n",
       " [182123, 0, 650, 'The Notebook'],\n",
       " [183963, 10, 650, 'The Notebook'],\n",
       " [185722, 10, 650, 'The Notebook'],\n",
       " [185992, 7, 650, 'The Notebook'],\n",
       " [186038, 8, 650, 'The Notebook'],\n",
       " [187256, 9, 650, 'The Notebook'],\n",
       " [187904, 0, 650, 'The Notebook'],\n",
       " [187960, 10, 650, 'The Notebook'],\n",
       " [188628, 7, 650, 'The Notebook'],\n",
       " [189005, 8, 650, 'The Notebook'],\n",
       " [189334, 0, 650, 'The Notebook'],\n",
       " [190459, 0, 650, 'The Notebook'],\n",
       " [190642, 0, 650, 'The Notebook'],\n",
       " [190708, 0, 650, 'The Notebook'],\n",
       " [190789, 3, 650, 'The Notebook'],\n",
       " [192512, 9, 650, 'The Notebook'],\n",
       " [192935, 5, 650, 'The Notebook'],\n",
       " [193778, 8, 650, 'The Notebook'],\n",
       " [194519, 0, 650, 'The Notebook'],\n",
       " [194600, 0, 650, 'The Notebook'],\n",
       " [195469, 0, 650, 'The Notebook'],\n",
       " [196047, 0, 650, 'The Notebook'],\n",
       " [196077, 0, 650, 'The Notebook'],\n",
       " [196502, 0, 650, 'The Notebook'],\n",
       " [198357, 7, 650, 'The Notebook'],\n",
       " [198711, 0, 650, 'The Notebook'],\n",
       " [200674, 0, 650, 'The Notebook'],\n",
       " [201641, 0, 650, 'The Notebook'],\n",
       " [201674, 10, 650, 'The Notebook'],\n",
       " [201783, 0, 650, 'The Notebook'],\n",
       " [205281, 9, 650, 'The Notebook'],\n",
       " [205473, 0, 650, 'The Notebook'],\n",
       " [205735, 0, 650, 'The Notebook'],\n",
       " [205856, 10, 650, 'The Notebook'],\n",
       " [205977, 7, 650, 'The Notebook'],\n",
       " [206153, 0, 650, 'The Notebook'],\n",
       " [206567, 0, 650, 'The Notebook'],\n",
       " [206959, 0, 650, 'The Notebook'],\n",
       " [206979, 0, 650, 'The Notebook'],\n",
       " [207339, 0, 650, 'The Notebook'],\n",
       " [207563, 0, 650, 'The Notebook'],\n",
       " [207721, 0, 650, 'The Notebook'],\n",
       " [208077, 0, 650, 'The Notebook'],\n",
       " [208124, 3, 650, 'The Notebook'],\n",
       " [208406, 0, 650, 'The Notebook'],\n",
       " [208549, 8, 650, 'The Notebook'],\n",
       " [209404, 0, 650, 'The Notebook'],\n",
       " [209756, 0, 650, 'The Notebook'],\n",
       " [211919, 7, 650, 'The Notebook'],\n",
       " [212009, 0, 650, 'The Notebook'],\n",
       " [212260, 10, 650, 'The Notebook'],\n",
       " [212419, 4, 650, 'The Notebook'],\n",
       " [215451, 5, 650, 'The Notebook'],\n",
       " [215522, 9, 650, 'The Notebook'],\n",
       " [215986, 0, 650, 'The Notebook'],\n",
       " [216188, 8, 650, 'The Notebook'],\n",
       " [216267, 10, 650, 'The Notebook'],\n",
       " [216683, 7, 650, 'The Notebook'],\n",
       " [217375, 0, 650, 'The Notebook'],\n",
       " [218121, 0, 650, 'The Notebook'],\n",
       " [218182, 6, 650, 'The Notebook'],\n",
       " [218241, 0, 650, 'The Notebook'],\n",
       " [218415, 0, 650, 'The Notebook'],\n",
       " [219278, 10, 650, 'The Notebook'],\n",
       " [219546, 0, 650, 'The Notebook'],\n",
       " [220240, 0, 650, 'The Notebook'],\n",
       " [220278, 0, 650, 'The Notebook'],\n",
       " [220683, 3, 650, 'The Notebook'],\n",
       " [221103, 10, 650, 'The Notebook'],\n",
       " [221370, 0, 650, 'The Notebook'],\n",
       " [221445, 0, 650, 'The Notebook'],\n",
       " [221967, 0, 650, 'The Notebook'],\n",
       " [223087, 0, 650, 'The Notebook'],\n",
       " [225810, 0, 650, 'The Notebook'],\n",
       " [226205, 0, 650, 'The Notebook'],\n",
       " [227238, 0, 650, 'The Notebook'],\n",
       " [227447, 0, 650, 'The Notebook'],\n",
       " [227520, 0, 650, 'The Notebook'],\n",
       " [229313, 0, 650, 'The Notebook'],\n",
       " [230699, 0, 650, 'The Notebook'],\n",
       " [230708, 0, 650, 'The Notebook'],\n",
       " [231210, 0, 650, 'The Notebook'],\n",
       " [231264, 8, 650, 'The Notebook'],\n",
       " [231510, 9, 650, 'The Notebook'],\n",
       " [232066, 0, 650, 'The Notebook'],\n",
       " [232131, 0, 650, 'The Notebook'],\n",
       " [233889, 0, 650, 'The Notebook'],\n",
       " [235117, 0, 650, 'The Notebook'],\n",
       " [236283, 10, 650, 'The Notebook'],\n",
       " [236322, 0, 650, 'The Notebook'],\n",
       " [236340, 0, 650, 'The Notebook'],\n",
       " [238526, 3, 650, 'The Notebook'],\n",
       " [238613, 8, 650, 'The Notebook'],\n",
       " [238699, 8, 650, 'The Notebook'],\n",
       " [240131, 0, 650, 'The Notebook'],\n",
       " [240568, 0, 650, 'The Notebook'],\n",
       " [240569, 10, 650, 'The Notebook'],\n",
       " [241582, 10, 650, 'The Notebook'],\n",
       " [241845, 4, 650, 'The Notebook'],\n",
       " [242065, 0, 650, 'The Notebook'],\n",
       " [242299, 0, 650, 'The Notebook'],\n",
       " [243077, 0, 650, 'The Notebook'],\n",
       " [244657, 6, 650, 'The Notebook'],\n",
       " [244736, 0, 650, 'The Notebook'],\n",
       " [244814, 6, 650, 'The Notebook'],\n",
       " [245649, 0, 650, 'The Notebook'],\n",
       " [245827, 0, 650, 'The Notebook'],\n",
       " [246655, 0, 650, 'The Notebook'],\n",
       " [246776, 0, 650, 'The Notebook'],\n",
       " [247423, 10, 650, 'The Notebook'],\n",
       " [249246, 3, 650, 'The Notebook'],\n",
       " [249294, 0, 650, 'The Notebook'],\n",
       " [249628, 0, 650, 'The Notebook'],\n",
       " [249695, 0, 650, 'The Notebook'],\n",
       " [249723, 0, 650, 'The Notebook'],\n",
       " [250184, 8, 650, 'The Notebook'],\n",
       " [250936, 10, 650, 'The Notebook'],\n",
       " [250962, 0, 650, 'The Notebook'],\n",
       " [251422, 0, 650, 'The Notebook'],\n",
       " [253106, 7, 650, 'The Notebook'],\n",
       " [253310, 0, 650, 'The Notebook'],\n",
       " [253871, 10, 650, 'The Notebook'],\n",
       " [254465, 5, 650, 'The Notebook'],\n",
       " [254719, 10, 650, 'The Notebook'],\n",
       " [255218, 0, 650, 'The Notebook'],\n",
       " [255289, 0, 650, 'The Notebook'],\n",
       " [255661, 0, 650, 'The Notebook'],\n",
       " [255786, 7, 650, 'The Notebook'],\n",
       " [255865, 0, 650, 'The Notebook'],\n",
       " [256407, 0, 650, 'The Notebook'],\n",
       " [256843, 8, 650, 'The Notebook'],\n",
       " [257031, 5, 650, 'The Notebook'],\n",
       " [258938, 10, 650, 'The Notebook'],\n",
       " [259629, 0, 650, 'The Notebook'],\n",
       " [261590, 8, 650, 'The Notebook'],\n",
       " [262040, 0, 650, 'The Notebook'],\n",
       " [262321, 0, 650, 'The Notebook'],\n",
       " [262399, 0, 650, 'The Notebook'],\n",
       " [263078, 9, 650, 'The Notebook'],\n",
       " [263511, 0, 650, 'The Notebook'],\n",
       " [263645, 0, 650, 'The Notebook'],\n",
       " [264284, 8, 650, 'The Notebook'],\n",
       " [265115, 0, 650, 'The Notebook'],\n",
       " [265313, 0, 650, 'The Notebook'],\n",
       " [266226, 0, 650, 'The Notebook'],\n",
       " [266283, 0, 650, 'The Notebook'],\n",
       " [267328, 6, 650, 'The Notebook'],\n",
       " [267409, 0, 650, 'The Notebook'],\n",
       " [268622, 0, 650, 'The Notebook'],\n",
       " [268882, 8, 650, 'The Notebook'],\n",
       " [269386, 10, 650, 'The Notebook'],\n",
       " [269566, 0, 650, 'The Notebook'],\n",
       " [269835, 6, 650, 'The Notebook'],\n",
       " [270702, 0, 650, 'The Notebook'],\n",
       " [270820, 0, 650, 'The Notebook'],\n",
       " [271448, 4, 650, 'The Notebook'],\n",
       " [271531, 9, 650, 'The Notebook'],\n",
       " [271538, 0, 650, 'The Notebook'],\n",
       " [272233, 7, 650, 'The Notebook'],\n",
       " [272573, 0, 650, 'The Notebook'],\n",
       " [273113, 5, 650, 'The Notebook'],\n",
       " [273813, 5, 650, 'The Notebook'],\n",
       " [274004, 4, 650, 'The Notebook'],\n",
       " [274656, 8, 650, 'The Notebook'],\n",
       " [275075, 8, 650, 'The Notebook'],\n",
       " [12824, 0, 650, 'The Notebook'],\n",
       " [14768, 0, 650, 'The Notebook'],\n",
       " [23648, 0, 650, 'The Notebook'],\n",
       " [23659, 0, 650, 'The Notebook'],\n",
       " [26057, 0, 650, 'The Notebook'],\n",
       " [26572, 8, 650, 'The Notebook'],\n",
       " [37493, 0, 650, 'The Notebook'],\n",
       " [59172, 0, 650, 'The Notebook'],\n",
       " [60424, 3, 650, 'The Notebook'],\n",
       " [64436, 0, 650, 'The Notebook'],\n",
       " [66055, 0, 650, 'The Notebook'],\n",
       " [69697, 0, 650, 'The Notebook'],\n",
       " [73681, 10, 650, 'The Notebook'],\n",
       " [78973, 8, 650, 'The Notebook'],\n",
       " [80105, 8, 650, 'The Notebook'],\n",
       " [81318, 8, 650, 'The Notebook'],\n",
       " [81484, 7, 650, 'The Notebook'],\n",
       " [82882, 0, 650, 'The Notebook'],\n",
       " [97874, 10, 650, 'The Notebook'],\n",
       " [100417, 8, 650, 'The Notebook'],\n",
       " [113519, 8, 650, 'The Notebook'],\n",
       " [115190, 0, 650, 'The Notebook'],\n",
       " [125798, 0, 650, 'The Notebook'],\n",
       " [129461, 10, 650, 'The Notebook'],\n",
       " [130772, 9, 650, 'The Notebook'],\n",
       " [131837, 0, 650, 'The Notebook'],\n",
       " [135149, 0, 650, 'The Notebook'],\n",
       " [140000, 0, 650, 'The Notebook'],\n",
       " [143792, 5, 650, 'The Notebook'],\n",
       " [148804, 10, 650, 'The Notebook'],\n",
       " [151043, 9, 650, 'The Notebook'],\n",
       " [155146, 0, 650, 'The Notebook'],\n",
       " [162639, 0, 650, 'The Notebook'],\n",
       " [163973, 0, 650, 'The Notebook'],\n",
       " [164518, 10, 650, 'The Notebook'],\n",
       " [168101, 9, 650, 'The Notebook'],\n",
       " [168954, 7, 650, 'The Notebook'],\n",
       " [177373, 0, 650, 'The Notebook'],\n",
       " [181473, 0, 650, 'The Notebook'],\n",
       " [186039, 0, 650, 'The Notebook'],\n",
       " [201290, 4, 650, 'The Notebook'],\n",
       " [223848, 10, 650, 'The Notebook'],\n",
       " [225087, 10, 650, 'The Notebook'],\n",
       " [226879, 0, 650, 'The Notebook'],\n",
       " [244778, 10, 650, 'The Notebook'],\n",
       " [245102, 8, 650, 'The Notebook'],\n",
       " [251844, 6, 650, 'The Notebook'],\n",
       " [252865, 0, 650, 'The Notebook'],\n",
       " [255413, 8, 650, 'The Notebook'],\n",
       " [267510, 10, 650, 'The Notebook'],\n",
       " [268030, 0, 650, 'The Notebook'],\n",
       " [112001, 10, 650, 'The Notebook'],\n",
       " [276744, 7, 838, 'A Painted House'],\n",
       " [278418, 0, 838, 'A Painted House'],\n",
       " [6251, 0, 838, 'A Painted House'],\n",
       " [8234, 0, 838, 'A Painted House'],\n",
       " [8250, 0, 838, 'A Painted House'],\n",
       " [11224, 0, 838, 'A Painted House'],\n",
       " [11676, 10, 838, 'A Painted House'],\n",
       " [13273, 0, 838, 'A Painted House'],\n",
       " [13552, 0, 838, 'A Painted House'],\n",
       " [16106, 0, 838, 'A Painted House'],\n",
       " [16718, 0, 838, 'A Painted House'],\n",
       " [16877, 9, 838, 'A Painted House'],\n",
       " [17950, 0, 838, 'A Painted House'],\n",
       " [17975, 6, 838, 'A Painted House'],\n",
       " [20806, 6, 838, 'A Painted House'],\n",
       " [21014, 0, 838, 'A Painted House'],\n",
       " [21340, 9, 838, 'A Painted House'],\n",
       " [21356, 7, 838, 'A Painted House'],\n",
       " [21659, 0, 838, 'A Painted House'],\n",
       " [22625, 10, 838, 'A Painted House'],\n",
       " [23243, 7, 838, 'A Painted House'],\n",
       " [23768, 0, 838, 'A Painted House'],\n",
       " [29168, 7, 838, 'A Painted House'],\n",
       " [31315, 6, 838, 'A Painted House'],\n",
       " [31362, 0, 838, 'A Painted House'],\n",
       " [32188, 8, 838, 'A Painted House'],\n",
       " [33580, 0, 838, 'A Painted House'],\n",
       " [33974, 8, 838, 'A Painted House'],\n",
       " [34523, 0, 838, 'A Painted House'],\n",
       " [34531, 0, 838, 'A Painted House'],\n",
       " [34588, 5, 838, 'A Painted House'],\n",
       " [35288, 9, 838, 'A Painted House'],\n",
       " [37712, 0, 838, 'A Painted House'],\n",
       " [37800, 9, 838, 'A Painted House'],\n",
       " [39441, 0, 838, 'A Painted House'],\n",
       " [39646, 0, 838, 'A Painted House'],\n",
       " [39773, 0, 838, 'A Painted House'],\n",
       " [40889, 0, 838, 'A Painted House'],\n",
       " [41841, 0, 838, 'A Painted House'],\n",
       " [43842, 0, 838, 'A Painted House'],\n",
       " [44963, 0, 838, 'A Painted House'],\n",
       " [49683, 0, 838, 'A Painted House'],\n",
       " [53174, 0, 838, 'A Painted House'],\n",
       " [53220, 8, 838, 'A Painted House'],\n",
       " [53614, 8, 838, 'A Painted House'],\n",
       " [55441, 0, 838, 'A Painted House'],\n",
       " [60337, 8, 838, 'A Painted House'],\n",
       " [62862, 0, 838, 'A Painted House'],\n",
       " [64436, 9, 838, 'A Painted House'],\n",
       " [73298, 0, 838, 'A Painted House'],\n",
       " [75819, 8, 838, 'A Painted House'],\n",
       " [76151, 10, 838, 'A Painted House'],\n",
       " [76351, 10, 838, 'A Painted House'],\n",
       " [76851, 8, 838, 'A Painted House'],\n",
       " [78236, 0, 838, 'A Painted House'],\n",
       " [83287, 0, 838, 'A Painted House'],\n",
       " [83941, 0, 838, 'A Painted House'],\n",
       " [87746, 0, 838, 'A Painted House'],\n",
       " [91832, 0, 838, 'A Painted House'],\n",
       " [92184, 0, 838, 'A Painted House'],\n",
       " [94279, 0, 838, 'A Painted House'],\n",
       " [96054, 0, 838, 'A Painted House'],\n",
       " [97919, 6, 838, 'A Painted House'],\n",
       " [98168, 7, 838, 'A Painted House'],\n",
       " [98741, 0, 838, 'A Painted House'],\n",
       " [100471, 6, 838, 'A Painted House'],\n",
       " [100846, 8, 838, 'A Painted House'],\n",
       " [101226, 10, 838, 'A Painted House'],\n",
       " [104051, 8, 838, 'A Painted House'],\n",
       " [105979, 0, 838, 'A Painted House'],\n",
       " [109013, 0, 838, 'A Painted House'],\n",
       " [109180, 10, 838, 'A Painted House'],\n",
       " [111174, 6, 838, 'A Painted House'],\n",
       " [111358, 7, 838, 'A Painted House'],\n",
       " [112914, 0, 838, 'A Painted House'],\n",
       " [113425, 6, 838, 'A Painted House'],\n",
       " [113519, 0, 838, 'A Painted House'],\n",
       " [114368, 9, 838, 'A Painted House'],\n",
       " [114847, 0, 838, 'A Painted House'],\n",
       " [115003, 8, 838, 'A Painted House'],\n",
       " [115375, 8, 838, 'A Painted House'],\n",
       " [115435, 8, 838, 'A Painted House'],\n",
       " [116904, 10, 838, 'A Painted House'],\n",
       " [121241, 0, 838, 'A Painted House'],\n",
       " [123645, 8, 838, 'A Painted House'],\n",
       " [124983, 0, 838, 'A Painted House'],\n",
       " [125519, 9, 838, 'A Painted House'],\n",
       " [130571, 8, 838, 'A Painted House'],\n",
       " [134797, 0, 838, 'A Painted House'],\n",
       " [135265, 0, 838, 'A Painted House'],\n",
       " [135741, 5, 838, 'A Painted House'],\n",
       " [136439, 5, 838, 'A Painted House'],\n",
       " [136509, 0, 838, 'A Painted House'],\n",
       " [140340, 0, 838, 'A Painted House'],\n",
       " [140358, 5, 838, 'A Painted House'],\n",
       " [141719, 7, 838, 'A Painted House'],\n",
       " [145641, 7, 838, 'A Painted House'],\n",
       " [147224, 5, 838, 'A Painted House'],\n",
       " [147847, 0, 838, 'A Painted House'],\n",
       " [148258, 0, 838, 'A Painted House'],\n",
       " [149069, 10, 838, 'A Painted House'],\n",
       " [149231, 0, 838, 'A Painted House'],\n",
       " [149696, 3, 838, 'A Painted House'],\n",
       " [151503, 0, 838, 'A Painted House'],\n",
       " [151819, 4, 838, 'A Painted House'],\n",
       " [152354, 6, 838, 'A Painted House'],\n",
       " [153418, 9, 838, 'A Painted House'],\n",
       " [153959, 8, 838, 'A Painted House'],\n",
       " [154906, 0, 838, 'A Painted House'],\n",
       " [155248, 0, 838, 'A Painted House'],\n",
       " [159033, 0, 838, 'A Painted House'],\n",
       " [160548, 0, 838, 'A Painted House'],\n",
       " [160819, 0, 838, 'A Painted House'],\n",
       " [161870, 0, 838, 'A Painted House'],\n",
       " [162639, 0, 838, 'A Painted House'],\n",
       " [162827, 0, 838, 'A Painted House'],\n",
       " [165788, 0, 838, 'A Painted House'],\n",
       " [166305, 0, 838, 'A Painted House'],\n",
       " [166391, 0, 838, 'A Painted House'],\n",
       " [171445, 0, 838, 'A Painted House'],\n",
       " [172881, 8, 838, 'A Painted House'],\n",
       " [173415, 0, 838, 'A Painted House'],\n",
       " [178006, 6, 838, 'A Painted House'],\n",
       " [183995, 0, 838, 'A Painted House'],\n",
       " [184295, 0, 838, 'A Painted House'],\n",
       " [187256, 9, 838, 'A Painted House'],\n",
       " [187621, 4, 838, 'A Painted House'],\n",
       " [189584, 0, 838, 'A Painted House'],\n",
       " [193778, 10, 838, 'A Painted House'],\n",
       " [196466, 0, 838, 'A Painted House'],\n",
       " [197206, 5, 838, 'A Painted House'],\n",
       " [198213, 8, 838, 'A Painted House'],\n",
       " [200422, 8, 838, 'A Painted House'],\n",
       " [200643, 0, 838, 'A Painted House'],\n",
       " [203506, 1, 838, 'A Painted House'],\n",
       " [203649, 0, 838, 'A Painted House'],\n",
       " [206177, 0, 838, 'A Painted House'],\n",
       " [206534, 0, 838, 'A Painted House'],\n",
       " [206754, 5, 838, 'A Painted House'],\n",
       " [208829, 0, 838, 'A Painted House'],\n",
       " [209160, 0, 838, 'A Painted House'],\n",
       " [209174, 0, 838, 'A Painted House'],\n",
       " [210485, 7, 838, 'A Painted House'],\n",
       " [212568, 9, 838, 'A Painted House'],\n",
       " [213379, 10, 838, 'A Painted House'],\n",
       " [215988, 10, 838, 'A Painted House'],\n",
       " [218615, 7, 838, 'A Painted House'],\n",
       " [222563, 0, 838, 'A Painted House'],\n",
       " [224249, 0, 838, 'A Painted House'],\n",
       " [225520, 0, 838, 'A Painted House'],\n",
       " [230522, 0, 838, 'A Painted House'],\n",
       " [234359, 0, 838, 'A Painted House'],\n",
       " [234565, 0, 838, 'A Painted House'],\n",
       " [235146, 10, 838, 'A Painted House'],\n",
       " [235842, 0, 838, 'A Painted House'],\n",
       " [236172, 0, 838, 'A Painted House'],\n",
       " [237064, 0, 838, 'A Painted House'],\n",
       " [238781, 0, 838, 'A Painted House'],\n",
       " [240643, 9, 838, 'A Painted House'],\n",
       " [243996, 0, 838, 'A Painted House'],\n",
       " [244955, 0, 838, 'A Painted House'],\n",
       " [245901, 9, 838, 'A Painted House'],\n",
       " [246411, 0, 838, 'A Painted House'],\n",
       " [246470, 0, 838, 'A Painted House'],\n",
       " [246513, 0, 838, 'A Painted House'],\n",
       " [251164, 7, 838, 'A Painted House'],\n",
       " [251422, 0, 838, 'A Painted House'],\n",
       " [251613, 0, 838, 'A Painted House'],\n",
       " [252222, 0, 838, 'A Painted House'],\n",
       " [252820, 7, 838, 'A Painted House'],\n",
       " [253780, 10, 838, 'A Painted House'],\n",
       " [254053, 10, 838, 'A Painted House'],\n",
       " [254488, 0, 838, 'A Painted House'],\n",
       " [256402, 0, 838, 'A Painted House'],\n",
       " [258334, 5, 838, 'A Painted House'],\n",
       " [259259, 9, 838, 'A Painted House'],\n",
       " [259629, 8, 838, 'A Painted House'],\n",
       " [260458, 7, 838, 'A Painted House'],\n",
       " [264085, 0, 838, 'A Painted House'],\n",
       " [264947, 0, 838, 'A Painted House'],\n",
       " [265202, 8, 838, 'A Painted House'],\n",
       " [267409, 0, 838, 'A Painted House'],\n",
       " [269835, 0, 838, 'A Painted House'],\n",
       " [271176, 0, 838, 'A Painted House'],\n",
       " [277212, 8, 838, 'A Painted House'],\n",
       " [277411, 0, 838, 'A Painted House'],\n",
       " [243, 7, 838, 'A Painted House'],\n",
       " [256, 8, 838, 'A Painted House'],\n",
       " [1435, 0, 838, 'A Painted House'],\n",
       " [1530, 8, 838, 'A Painted House'],\n",
       " [1608, 0, 838, 'A Painted House'],\n",
       " [2907, 5, 838, 'A Painted House'],\n",
       " [3167, 0, 838, 'A Painted House'],\n",
       " [3991, 0, 838, 'A Painted House'],\n",
       " [5331, 0, 838, 'A Painted House'],\n",
       " [6577, 0, 838, 'A Painted House'],\n",
       " [6900, 0, 838, 'A Painted House'],\n",
       " [7125, 0, 838, 'A Painted House'],\n",
       " [7283, 10, 838, 'A Painted House'],\n",
       " [8066, 7, 838, 'A Painted House'],\n",
       " [9856, 0, 838, 'A Painted House'],\n",
       " [10112, 0, 838, 'A Painted House'],\n",
       " [10447, 0, 838, 'A Painted House'],\n",
       " [11155, 6, 838, 'A Painted House'],\n",
       " [11245, 0, 838, 'A Painted House'],\n",
       " [11532, 0, 838, 'A Painted House'],\n",
       " [11718, 8, 838, 'A Painted House'],\n",
       " [12333, 7, 838, 'A Painted House'],\n",
       " [14521, 0, 838, 'A Painted House'],\n",
       " [15623, 8, 838, 'A Painted House'],\n",
       " [16475, 0, 838, 'A Painted House'],\n",
       " [16795, 0, 838, 'A Painted House'],\n",
       " [17531, 0, 838, 'A Painted House'],\n",
       " [17906, 10, 838, 'A Painted House'],\n",
       " [19573, 10, 838, 'A Painted House'],\n",
       " [20034, 6, 838, 'A Painted House'],\n",
       " [20119, 0, 838, 'A Painted House'],\n",
       " [20201, 0, 838, 'A Painted House'],\n",
       " [21043, 0, 838, 'A Painted House'],\n",
       " [21257, 8, 838, 'A Painted House'],\n",
       " [21404, 0, 838, 'A Painted House'],\n",
       " [22045, 10, 838, 'A Painted House'],\n",
       " [22074, 9, 838, 'A Painted House'],\n",
       " [23032, 8, 838, 'A Painted House'],\n",
       " [23652, 0, 838, 'A Painted House'],\n",
       " [23902, 6, 838, 'A Painted House'],\n",
       " [24220, 9, 838, 'A Painted House'],\n",
       " [24314, 8, 838, 'A Painted House'],\n",
       " [24525, 7, 838, 'A Painted House'],\n",
       " [25131, 0, 838, 'A Painted House'],\n",
       " [25153, 0, 838, 'A Painted House'],\n",
       " [25583, 10, 838, 'A Painted House'],\n",
       " [26249, 8, 838, 'A Painted House'],\n",
       " [26518, 0, 838, 'A Painted House'],\n",
       " [26544, 0, 838, 'A Painted House'],\n",
       " [27740, 0, 838, 'A Painted House'],\n",
       " [28091, 8, 838, 'A Painted House'],\n",
       " [28123, 9, 838, 'A Painted House'],\n",
       " [28144, 2, 838, 'A Painted House'],\n",
       " [28619, 0, 838, 'A Painted House'],\n",
       " [28634, 9, 838, 'A Painted House'],\n",
       " [30487, 8, 838, 'A Painted House'],\n",
       " [30533, 0, 838, 'A Painted House'],\n",
       " [30594, 5, 838, 'A Painted House'],\n",
       " [30711, 0, 838, 'A Painted House'],\n",
       " [30838, 0, 838, 'A Painted House'],\n",
       " [30861, 0, 838, 'A Painted House'],\n",
       " [30968, 8, 838, 'A Painted House'],\n",
       " [30972, 9, 838, 'A Painted House'],\n",
       " [30994, 9, 838, 'A Painted House'],\n",
       " [31040, 0, 838, 'A Painted House'],\n",
       " [31080, 0, 838, 'A Painted House'],\n",
       " [31172, 0, 838, 'A Painted House'],\n",
       " [31307, 0, 838, 'A Painted House'],\n",
       " [31556, 0, 838, 'A Painted House'],\n",
       " [31860, 0, 838, 'A Painted House'],\n",
       " [32195, 0, 838, 'A Painted House'],\n",
       " [32516, 0, 838, 'A Painted House'],\n",
       " [33319, 0, 838, 'A Painted House'],\n",
       " [33474, 10, 838, 'A Painted House'],\n",
       " [33816, 7, 838, 'A Painted House'],\n",
       " [33981, 5, 838, 'A Painted House'],\n",
       " [34621, 0, 838, 'A Painted House'],\n",
       " [34716, 0, 838, 'A Painted House'],\n",
       " [35050, 0, 838, 'A Painted House'],\n",
       " [35707, 8, 838, 'A Painted House'],\n",
       " [35831, 9, 838, 'A Painted House'],\n",
       " [35859, 0, 838, 'A Painted House'],\n",
       " [36231, 5, 838, 'A Painted House'],\n",
       " [36624, 3, 838, 'A Painted House'],\n",
       " [37135, 7, 838, 'A Painted House'],\n",
       " [37311, 10, 838, 'A Painted House'],\n",
       " [37950, 0, 838, 'A Painted House'],\n",
       " [38273, 5, 838, 'A Painted House'],\n",
       " [39077, 0, 838, 'A Painted House'],\n",
       " [39374, 7, 838, 'A Painted House'],\n",
       " [39467, 6, 838, 'A Painted House'],\n",
       " [40134, 0, 838, 'A Painted House'],\n",
       " [40296, 0, 838, 'A Painted House'],\n",
       " [41057, 0, 838, 'A Painted House'],\n",
       " [41080, 0, 838, 'A Painted House'],\n",
       " [41312, 0, 838, 'A Painted House'],\n",
       " [41781, 9, 838, 'A Painted House'],\n",
       " [42410, 0, 838, 'A Painted House'],\n",
       " [42597, 9, 838, 'A Painted House'],\n",
       " [43619, 0, 838, 'A Painted House'],\n",
       " [43901, 6, 838, 'A Painted House'],\n",
       " [44842, 0, 838, 'A Painted House'],\n",
       " [44884, 10, 838, 'A Painted House'],\n",
       " [44893, 0, 838, 'A Painted House'],\n",
       " [45302, 7, 838, 'A Painted House'],\n",
       " [46145, 0, 838, 'A Painted House'],\n",
       " [46196, 10, 838, 'A Painted House'],\n",
       " [46671, 6, 838, 'A Painted House'],\n",
       " [48025, 8, 838, 'A Painted House'],\n",
       " [48494, 0, 838, 'A Painted House'],\n",
       " [48743, 0, 838, 'A Painted House'],\n",
       " [49289, 8, 838, 'A Painted House'],\n",
       " [49994, 0, 838, 'A Painted House'],\n",
       " [50225, 0, 838, 'A Painted House'],\n",
       " [50388, 7, 838, 'A Painted House'],\n",
       " [50521, 9, 838, 'A Painted House'],\n",
       " [50730, 0, 838, 'A Painted House'],\n",
       " [50896, 8, 838, 'A Painted House'],\n",
       " [51094, 0, 838, 'A Painted House'],\n",
       " [51450, 0, 838, 'A Painted House'],\n",
       " [51545, 10, 838, 'A Painted House'],\n",
       " [52189, 0, 838, 'A Painted House'],\n",
       " [52224, 0, 838, 'A Painted House'],\n",
       " [52225, 0, 838, 'A Painted House'],\n",
       " [52584, 0, 838, 'A Painted House'],\n",
       " [52853, 0, 838, 'A Painted House'],\n",
       " [53846, 10, 838, 'A Painted House'],\n",
       " [54311, 0, 838, 'A Painted House'],\n",
       " [54335, 8, 838, 'A Painted House'],\n",
       " [54413, 8, 838, 'A Painted House'],\n",
       " [54528, 0, 838, 'A Painted House'],\n",
       " [54624, 0, 838, 'A Painted House'],\n",
       " [54889, 9, 838, 'A Painted House'],\n",
       " [55027, 9, 838, 'A Painted House'],\n",
       " [55202, 0, 838, 'A Painted House'],\n",
       " ...]"
      ]
     },
     "execution_count": 49,
     "metadata": {},
     "output_type": "execute_result"
    }
   ],
   "source": [
    "df"
   ]
  },
  {
   "cell_type": "code",
   "execution_count": 50,
   "id": "9fb875fb",
   "metadata": {
    "executionInfo": {
     "elapsed": 5,
     "status": "aborted",
     "timestamp": 1638908789013,
     "user": {
      "displayName": "Abhishek Premnath",
      "photoUrl": "https://lh3.googleusercontent.com/a/default-user=s64",
      "userId": "03572912638388765361"
     },
     "user_tz": 480
    },
    "id": "9fb875fb"
   },
   "outputs": [],
   "source": [
    "import random\n",
    "def train_test_split(data, split, train_Set = [], test_Set = []):\n",
    "    for x in range(len(data)):\n",
    "        if random.random() < split:\n",
    "            train_Set.append(data[x])\n",
    "        else:\n",
    "            test_Set.append(data[x])\n",
    "#splitting train and test data"
   ]
  },
  {
   "cell_type": "code",
   "execution_count": 51,
   "id": "3c57b826",
   "metadata": {
    "executionInfo": {
     "elapsed": 5,
     "status": "aborted",
     "timestamp": 1638908789013,
     "user": {
      "displayName": "Abhishek Premnath",
      "photoUrl": "https://lh3.googleusercontent.com/a/default-user=s64",
      "userId": "03572912638388765361"
     },
     "user_tz": 480
    },
    "id": "3c57b826"
   },
   "outputs": [],
   "source": [
    "train_Set = []\n",
    "test_Set = []\n",
    "split = 0.70\n",
    "train_test_split(df, split, train_Set, test_Set)\n",
    "#using 70% as train data and remaining as test data"
   ]
  },
  {
   "cell_type": "code",
   "execution_count": 52,
   "id": "4c682ab8",
   "metadata": {
    "executionInfo": {
     "elapsed": 5,
     "status": "aborted",
     "timestamp": 1638908789013,
     "user": {
      "displayName": "Abhishek Premnath",
      "photoUrl": "https://lh3.googleusercontent.com/a/default-user=s64",
      "userId": "03572912638388765361"
     },
     "user_tz": 480
    },
    "id": "4c682ab8"
   },
   "outputs": [
    {
     "data": {
      "text/plain": [
       "199490"
      ]
     },
     "execution_count": 52,
     "metadata": {},
     "output_type": "execute_result"
    }
   ],
   "source": [
    "len(train_Set)"
   ]
  },
  {
   "cell_type": "code",
   "execution_count": 53,
   "id": "3afda491",
   "metadata": {
    "executionInfo": {
     "elapsed": 5,
     "status": "aborted",
     "timestamp": 1638908789014,
     "user": {
      "displayName": "Abhishek Premnath",
      "photoUrl": "https://lh3.googleusercontent.com/a/default-user=s64",
      "userId": "03572912638388765361"
     },
     "user_tz": 480
    },
    "id": "3afda491"
   },
   "outputs": [
    {
     "data": {
      "text/plain": [
       "86028"
      ]
     },
     "execution_count": 53,
     "metadata": {},
     "output_type": "execute_result"
    }
   ],
   "source": [
    "len(test_Set)"
   ]
  },
  {
   "cell_type": "code",
   "execution_count": 54,
   "id": "db38f3d0",
   "metadata": {
    "executionInfo": {
     "elapsed": 5,
     "status": "aborted",
     "timestamp": 1638908789014,
     "user": {
      "displayName": "Abhishek Premnath",
      "photoUrl": "https://lh3.googleusercontent.com/a/default-user=s64",
      "userId": "03572912638388765361"
     },
     "user_tz": 480
    },
    "id": "db38f3d0"
   },
   "outputs": [],
   "source": [
    "import math\n",
    "def Euclidean(x,xi, length):\n",
    "    d = 0.0\n",
    "    for i in range(length):\n",
    "        d += pow(float(x[i])- float(xi[i]),2)\n",
    "    return math.sqrt(d)\n",
    "#calculating the euclidean distance"
   ]
  },
  {
   "cell_type": "code",
   "execution_count": 55,
   "id": "9c69aea1",
   "metadata": {
    "executionInfo": {
     "elapsed": 5,
     "status": "aborted",
     "timestamp": 1638908789014,
     "user": {
      "displayName": "Abhishek Premnath",
      "photoUrl": "https://lh3.googleusercontent.com/a/default-user=s64",
      "userId": "03572912638388765361"
     },
     "user_tz": 480
    },
    "id": "9c69aea1"
   },
   "outputs": [],
   "source": [
    "import operator\n",
    "def KNN(train_Set, testInstance, k):\n",
    "    distances = []\n",
    "    length = len(testInstance)-1\n",
    "    for x in range(len(train_Set)):\n",
    "        dist = Euclidean(testInstance, train_Set[x], length)\n",
    "        distances.append((train_Set[x], dist))\n",
    "    distances.sort(key=operator.itemgetter(1))\n",
    "    neighbors = []\n",
    "    for x in range(k):\n",
    "        neighbors.append(distances[x][0])\n",
    "    return neighbors\n",
    "#KNN algorithm to calculate neighbors based on our Euclidean distance"
   ]
  },
  {
   "cell_type": "code",
   "execution_count": 56,
   "id": "2d8580e2",
   "metadata": {
    "executionInfo": {
     "elapsed": 5,
     "status": "aborted",
     "timestamp": 1638908789014,
     "user": {
      "displayName": "Abhishek Premnath",
      "photoUrl": "https://lh3.googleusercontent.com/a/default-user=s64",
      "userId": "03572912638388765361"
     },
     "user_tz": 480
    },
    "id": "2d8580e2"
   },
   "outputs": [],
   "source": [
    "import operator\n",
    "def best_book(neighbors):\n",
    "    classVotes = {}\n",
    "    for x in range(len(neighbors)):\n",
    "        response = neighbors[x][-1]\n",
    "        if response in classVotes:\n",
    "            classVotes[response] += 1\n",
    "        else:\n",
    "            classVotes[response] = 1\n",
    "    sortedVotes = sorted(classVotes.items(), key=operator.itemgetter(1), reverse=True)\n",
    "    return sortedVotes[0][0] \n",
    "#getting the best recommended book our of all recommendations through class voting"
   ]
  },
  {
   "cell_type": "code",
   "execution_count": 57,
   "id": "f165a130",
   "metadata": {
    "executionInfo": {
     "elapsed": 5,
     "status": "aborted",
     "timestamp": 1638908789014,
     "user": {
      "displayName": "Abhishek Premnath",
      "photoUrl": "https://lh3.googleusercontent.com/a/default-user=s64",
      "userId": "03572912638388765361"
     },
     "user_tz": 480
    },
    "id": "f165a130",
    "scrolled": true
   },
   "outputs": [
    {
     "name": "stdout",
     "output_type": "stream",
     "text": [
      "Recommended Books are\n",
      "['Diary of a Mad Bride (Summer Display Opportunity)', 'Fast Food Nation: The Dark Side of the All-American Meal', 'The Red Tent (Bestselling Backlist)', 'The Island of the Day Before', 'Blindness (Harvest Book)']\n",
      "Most Recommended book among the above is-->'Diary of a Mad Bride (Summer Display Opportunity)'\n",
      "for the user who previously liked the book\n",
      "'Loves Music, Loves to Dance'\n"
     ]
    }
   ],
   "source": [
    "predictions=[]\n",
    "k = 5\n",
    "x = np.random.choice(len(test_Set))\n",
    "neighbors = KNN(train_Set, test_Set[x][:3], k)\n",
    "most_re = best_book(neighbors)\n",
    "predictions.append(neighbors)\n",
    "re_books=[]\n",
    "for lst in neighbors:\n",
    "    re_books.append(lst[3])\n",
    "print('Recommended Books are\\n' + repr(re_books) + '\\nMost Recommended book among the above is-->'+ repr(most_re) + '\\nfor the user who previously liked the book\\n' + repr(test_Set[x][-1]))\n",
    "#taking a random row in test set and recommending books for that user based on the ratings and books recommended by that user previously"
   ]
  },
  {
   "cell_type": "code",
   "execution_count": null,
   "id": "80c3f3e5",
   "metadata": {
    "executionInfo": {
     "elapsed": 6,
     "status": "aborted",
     "timestamp": 1638908789015,
     "user": {
      "displayName": "Abhishek Premnath",
      "photoUrl": "https://lh3.googleusercontent.com/a/default-user=s64",
      "userId": "03572912638388765361"
     },
     "user_tz": 480
    },
    "id": "80c3f3e5"
   },
   "outputs": [],
   "source": []
  }
 ],
 "metadata": {
  "colab": {
   "name": "KNN.ipynb",
   "provenance": []
  },
  "kernelspec": {
   "display_name": "Python 3",
   "language": "python",
   "name": "python3"
  },
  "language_info": {
   "codemirror_mode": {
    "name": "ipython",
    "version": 3
   },
   "file_extension": ".py",
   "mimetype": "text/x-python",
   "name": "python",
   "nbconvert_exporter": "python",
   "pygments_lexer": "ipython3",
   "version": "3.8.8"
  }
 },
 "nbformat": 4,
 "nbformat_minor": 5
}
